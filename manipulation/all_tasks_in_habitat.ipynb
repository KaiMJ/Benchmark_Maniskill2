{
 "cells": [
  {
   "cell_type": "markdown",
   "metadata": {},
   "source": [
    "## 7) Different trajectories / tasks"
   ]
  },
  {
   "cell_type": "code",
   "execution_count": 1,
   "metadata": {},
   "outputs": [
    {
     "name": "stderr",
     "output_type": "stream",
     "text": [
      "\u001b[33;1m2024-03-08 16:30:44,314 - mani_skill2 - WARNING - Override registered env PickCube-v0\u001b[0m\n",
      "\u001b[33;1m2024-03-08 16:30:44,315 - mani_skill2 - WARNING - Override registered env StackCube-v0\u001b[0m\n",
      "\u001b[33;1m2024-03-08 16:30:44,315 - mani_skill2 - WARNING - Override registered env PickSingleYCB-v0\u001b[0m\n",
      "\u001b[33;1m2024-03-08 16:30:44,316 - mani_skill2 - WARNING - Override registered env PickClutterYCB-v0\u001b[0m\n",
      "\u001b[33;1m2024-03-08 16:30:44,316 - mani_skill2 - WARNING - Override registered env PegInsertionSide-v0\u001b[0m\n",
      "\u001b[33;1m2024-03-08 16:30:44,317 - mani_skill2 - WARNING - Override registered env PlugCharger-v0\u001b[0m\n",
      "\u001b[33;1m2024-03-08 16:30:44,317 - mani_skill2 - WARNING - Override registered env AssemblingKits-v0\u001b[0m\n",
      "\u001b[33;1m2024-03-08 16:30:44,317 - mani_skill2 - WARNING - Override registered env TurnFaucet-v0\u001b[0m\n",
      "\u001b[33;1m2024-03-08 16:30:44,318 - mani_skill2 - WARNING - Override registered env OpenCabinetDoor-v1\u001b[0m\n",
      "\u001b[33;1m2024-03-08 16:30:44,319 - mani_skill2 - WARNING - Override registered env OpenCabinetDrawer-v1\u001b[0m\n",
      "\u001b[33;1m2024-03-08 16:30:44,319 - mani_skill2 - WARNING - Override registered env PushChair-v1\u001b[0m\n",
      "\u001b[33;1m2024-03-08 16:30:44,320 - mani_skill2 - WARNING - Override registered env MoveBucket-v1\u001b[0m\n"
     ]
    }
   ],
   "source": [
    "import matplotlib.pyplot as plt\n",
    "import numpy as np\n",
    "import gymnasium as gym\n",
    "from data_utils import get_nth_episode_info\n",
    "from IPython.display import clear_output\n",
    "from sapien.core import Pose\n",
    "\n",
    "from habitat_classes import *"
   ]
  },
  {
   "cell_type": "markdown",
   "metadata": {},
   "source": [
    "# download trajectory from \n",
    "# https://huggingface.co/datasets/haosulab/ManiSkill2"
   ]
  },
  {
   "cell_type": "code",
   "execution_count": 2,
   "metadata": {},
   "outputs": [],
   "source": [
    "from mani_skill2.envs.pick_and_place.base_env import StationaryManipulationEnv\n",
    "from mani_skill2.utils.registration import register_env\n",
    "import gymnasium as gym\n",
    "import sapien.core as sapien\n",
    "from mani_skill2 import ASSET_DIR\n",
    "from pathlib import Path\n",
    "from typing import Dict, List\n",
    "from mani_skill2 import format_path\n",
    "from mani_skill2.utils.io_utils import load_json\n",
    "\n",
    "\n",
    "def build_actor_ycb(\n",
    "    model_id: str,\n",
    "    scene: sapien.Scene,\n",
    "    scale: float = 1.0,\n",
    "    physical_material: sapien.PhysicalMaterial = None,\n",
    "    density=1000,\n",
    "    root_dir=ASSET_DIR / \"mani_skill2_ycb\",\n",
    "):\n",
    "    builder = scene.create_actor_builder()\n",
    "    model_dir = Path(root_dir) / \"models\" / model_id\n",
    "\n",
    "    collision_file = str(model_dir / \"collision.obj\")\n",
    "    builder.add_multiple_collisions_from_file(\n",
    "        filename=collision_file,\n",
    "        scale=[scale] * 3,\n",
    "        material=physical_material,\n",
    "        density=density,\n",
    "    )\n",
    "\n",
    "    visual_file = str(model_dir / \"textured.obj\")\n",
    "    builder.add_visual_from_file(filename=visual_file, scale=[scale] * 3)\n",
    "\n",
    "    actor = builder.build()\n",
    "    return actor\n",
    "\n",
    "\n",
    "@register_env(\"CustomEnv-v0\", max_episode_steps=200, override=True)\n",
    "class CustomEnv(StationaryManipulationEnv):\n",
    "    \"\"\"\n",
    "        Customized environment from pick_clutter and single_ycb environment\n",
    "    \"\"\"\n",
    "    DEFAULT_EPISODE_JSON = \"{ASSET_DIR}/pick_clutter/ycb_train_5k.json.gz\"\n",
    "    DEFAULT_ASSET_ROOT = \"{ASSET_DIR}/mani_skill2_ycb\"\n",
    "    DEFAULT_MODEL_JSON = \"info_pick_v0.json\"\n",
    "    \n",
    "    def __init__(\n",
    "        self,\n",
    "        asset_root: str = None,\n",
    "        model_json: str = None,\n",
    "        model_ids: List[str] = (),\n",
    "        obj_init_rot_z=True,\n",
    "        obj_init_rot=0,\n",
    "        goal_thresh=0.025,\n",
    "        **kwargs,\n",
    "    ):\n",
    "        if asset_root is None:\n",
    "            asset_root = self.DEFAULT_ASSET_ROOT\n",
    "        self.asset_root = Path(format_path(asset_root))\n",
    "\n",
    "        if model_json is None:\n",
    "            model_json = self.DEFAULT_MODEL_JSON\n",
    "\n",
    "        # NOTE(jigu): absolute path will overwrite asset_root\n",
    "        model_json = self.asset_root / format_path(model_json)\n",
    "        if not model_json.exists():\n",
    "            raise FileNotFoundError(\n",
    "                f\"{model_json} is not found.\"\n",
    "                \"Please download the corresponding assets:\"\n",
    "                \"`python -m mani_skill2.utils.download_asset ${ENV_ID}`.\"\n",
    "            )\n",
    "        self.model_db: Dict[str, Dict] = load_json(model_json)\n",
    "\n",
    "        if isinstance(model_ids, str):\n",
    "            model_ids = [model_ids]\n",
    "        if len(model_ids) == 0:\n",
    "            model_ids = sorted(self.model_db.keys())\n",
    "        assert len(model_ids) > 0, model_json\n",
    "        self.model_ids = model_ids\n",
    "\n",
    "        self.model_scale = None\n",
    "        self.model_bbox_size = None\n",
    "\n",
    "        self.obj_init_rot_z = obj_init_rot_z\n",
    "        self.obj_init_rot = obj_init_rot\n",
    "        self.goal_thresh = goal_thresh\n",
    "\n",
    "        self._check_assets()\n",
    "        super().__init__(**kwargs)\n",
    "\n",
    "    def _check_assets(self):\n",
    "        models_dir = self.asset_root / \"models\"\n",
    "        for model_id in self.model_ids:\n",
    "            model_dir = models_dir / model_id\n",
    "            if not model_dir.exists():\n",
    "                raise FileNotFoundError(\n",
    "                    f\"{model_dir} is not found.\"\n",
    "                    \"Please download (ManiSkill2) YCB models:\"\n",
    "                    \"`python -m mani_skill2.utils.download_asset ycb`.\"\n",
    "                )\n",
    "\n",
    "            collision_file = model_dir / \"collision.obj\"\n",
    "            if not collision_file.exists():\n",
    "                raise FileNotFoundError(\n",
    "                    \"convex.obj has been renamed to collision.obj. \"\n",
    "                    \"Please re-download YCB models.\"\n",
    "                )\n",
    "\n",
    "    # def _initialize_actors(self):\n",
    "    #     for i in range(len(self.model_ids)):\n",
    "    #         # Add a small offset to avoid numerical issues for simulation\n",
    "    #         rs =  np.random.uniform(low=-0.5, high=0.5, size=(2))\n",
    "    #         self.objs[i].set_pose(Pose(np.array([rs[0], rs[1], 0]) + [0, 0, 0], [1, 0, 0, np.random.randn()]))\n",
    "\n",
    "    #     # Settle\n",
    "    #     for _ in range(self.control_freq):\n",
    "    #         self._scene.step()\n",
    "\n",
    "    def _initialize_actors(self):\n",
    "        # Shuffle the list of objects to randomize their order\n",
    "        shuffled_indices = list(range(len(self.model_ids)))\n",
    "        np.random.shuffle(shuffled_indices)\n",
    "\n",
    "        # Determine an area size in which the actors will be placed\n",
    "        area_size = 0.5  # You might need to adjust this based on your scene size and actor sizes\n",
    "\n",
    "        for i in shuffled_indices:\n",
    "            # Randomly choose a position within the area, ensuring there's enough space for the bounding box\n",
    "            safe_area = 0.4  # Subtract the largest dimension of the bounding box to prevent overlap with the area boundaries\n",
    "            position = np.random.uniform(low=-0.5 * safe_area, high=0.5 * safe_area, size=(2))\n",
    "\n",
    "            # Create a random orientation for the actor\n",
    "            orientation = [1, 0, 0, np.random.randn()]\n",
    "\n",
    "            # Normalize the orientation quaternion to ensure it's valid\n",
    "            # orientation = np.array(orientation) / np.linalg.norm(orientation)\n",
    "\n",
    "            # Set the pose of the actor with the randomized position and orientation\n",
    "            self.objs[i].set_pose(Pose(np.append(position, 0), orientation))  # Assuming the z-axis is up and actors are placed on a plane\n",
    "\n",
    "        # Settle\n",
    "        for _ in range(self.control_freq):\n",
    "            self._scene.step()\n",
    "\n",
    "    def _load_actors(self):\n",
    "        self._add_ground(render=self.bg_name is None)\n",
    "\n",
    "        self.objs: List[sapien.Actor] = []\n",
    "        self.bbox_sizes = []\n",
    "        for model_id in self.model_ids:\n",
    "            obj = self._load_model(model_id)\n",
    "            self.objs.append(obj)\n",
    "\n",
    "            bbox = self.model_db[model_id][\"bbox\"]\n",
    "            bbox_size = np.array(bbox[\"max\"]) - np.array(bbox[\"min\"])\n",
    "            self.bbox_sizes.append(bbox_size)\n",
    "\n",
    "    def _load_model(self, model_id, model_scale=1.0):\n",
    "        density = self.model_db[model_id].get(\"density\", 1000)\n",
    "        obj = build_actor_ycb(\n",
    "            model_id,\n",
    "            self._scene,\n",
    "            scale=model_scale,\n",
    "            density=density,\n",
    "            root_dir=self.asset_root,\n",
    "        )\n",
    "        obj.name = model_id\n",
    "        obj.set_damping(0.1, 0.1)\n",
    "\n",
    "        return obj\n",
    "\n",
    "    def _get_init_z(self):\n",
    "        bbox_min = self.model_db[self.model_id][\"bbox\"][\"min\"]\n",
    "        return -bbox_min[2] * self.model_scale + 0.05\n",
    "\n",
    "    def _register_cameras(self):\n",
    "        pose = look_at([-1, 0, 1], [0, 0, 0])\n",
    "        return CameraConfig(\n",
    "            \"base_camera\", pose.p, pose.q, 512, 512, np.pi/3, 0.01, 10\n",
    "        )"
   ]
  },
  {
   "cell_type": "code",
   "execution_count": 3,
   "metadata": {},
   "outputs": [
    {
     "name": "stderr",
     "output_type": "stream",
     "text": [
      "[2024-03-08 16:30:44.368] [svulkan2] [error] GLFW error: X11: The DISPLAY environment variable is missing\n",
      "[2024-03-08 16:30:44.368] [svulkan2] [warning] Continue without GLFW.\n"
     ]
    }
   ],
   "source": [
    "env = gym.make(\"CustomEnv-v0\", model_ids=[\"002_master_chef_can\", \"003_cracker_box\", \"004_sugar_box\"], obs_mode=\"rgbd\")"
   ]
  },
  {
   "cell_type": "code",
   "execution_count": 4,
   "metadata": {},
   "outputs": [
    {
     "data": {
      "text/plain": [
       "<matplotlib.image.AxesImage at 0x7f3e9011d250>"
      ]
     },
     "execution_count": 4,
     "metadata": {},
     "output_type": "execute_result"
    },
    {
     "data": {
      "image/png": "[encoded data removed]",
      "text/plain": [
       "<Figure size 640x480 with 1 Axes>"
      ]
     },
     "metadata": {},
     "output_type": "display_data"
    }
   ],
   "source": [
    "obs, _ = env.reset()\n",
    "# obs, _ = env.step(env.action_space.sample())\n",
    "plt.imshow(obs['image']['base_camera']['rgb'])"
   ]
  },
  {
   "cell_type": "markdown",
   "metadata": {},
   "source": [
    "### Psuedocode for random initialization\n",
    "\n",
    "\n",
    "\n",
    "One cube\n",
    "    Move red cube to the right / left / forward / back.\n",
    "    Bring red cube up / down.\n",
    "\n",
    "    self._load_cube()\n",
    "\n",
    "    reset(right / left / forward / back / up / down)\n",
    "\n",
    "\n",
    "\n",
    "\n",
    "\n",
    "Red cube and Green cube\n",
    "    Put cube 1 on top / behind / front / right / left of cube 2\n",
    "Multiple objects\n",
    "    Move object 1 to the right/left/forward/back/up/down\n",
    "    Move object 1 behind/front/right/left of object 2\n",
    "\n",
    "\n"
   ]
  },
  {
   "cell_type": "code",
   "execution_count": 5,
   "metadata": {},
   "outputs": [
    {
     "name": "stderr",
     "output_type": "stream",
     "text": [
      "\u001b[33;1m2024-03-08 16:30:45,406 - mani_skill2 - WARNING - Override registered env CustomEnv-v0\u001b[0m\n"
     ]
    }
   ],
   "source": [
    "from transforms3d.euler import euler2quat, quat2euler\n",
    "\n",
    "\n",
    "    \n",
    "@register_env(\"CustomEnv-v0\", max_episode_steps=200, override=True)\n",
    "class CustomEnv(PickCubeEnv):\n",
    "    def _load_actors(self):\n",
    "        self._add_ground(render=self.bg_name is None)\n",
    "        self.obj = self._build_cube(self.cube_half_size*4, static=True)\n",
    "        self.obj2 = self._build_cube(self.cube_half_size*4, color=(0, 0, 1), static=True)\n",
    "        self.goal_site = self._build_sphere_site(self.goal_thresh)\n",
    "\n",
    "    def _register_cameras(self):\n",
    "        pose = look_at([-1, 0, 1], [0, 0, 0])\n",
    "        return CameraConfig(\n",
    "            \"base_camera\", pose.p, pose.q, 1024, 1024, np.pi/3, 0.01, 10\n",
    "        )"
   ]
  },
  {
   "cell_type": "code",
   "execution_count": 6,
   "metadata": {},
   "outputs": [
    {
     "name": "stderr",
     "output_type": "stream",
     "text": [
      "[2024-03-08 16:30:45.416] [svulkan2] [warning] A second renderer will share the same internal context with the first one. Arguments passed to constructor will be ignored.\n"
     ]
    }
   ],
   "source": [
    "env = gym.make(\"CustomEnv-v0\", obs_mode=\"rgbd\")\n",
    "_ = env.reset()"
   ]
  },
  {
   "cell_type": "code",
   "execution_count": 7,
   "metadata": {},
   "outputs": [],
   "source": [
    "def is_overlapping(pos1, pos2, min_dist):\n",
    "    # Calculate the Euclidean distance between two positions\n",
    "    dist = np.sqrt((pos1[0] - pos2[0])**2 + (pos1[1] - pos2[1])**2)\n",
    "    return dist < min_dist\n",
    "\n",
    "def generate_non_overlapping_position(existing_positions, min_dist, low=-0.5, high=0.5):\n",
    "    while True:\n",
    "        # Generate a random position\n",
    "        new_position = np.random.uniform(low=low, high=high, size=(2))\n",
    "        # Check for overlap with existing positions\n",
    "        overlap = any(is_overlapping(new_position, pos, min_dist) for pos in existing_positions)\n",
    "        if not overlap:\n",
    "            return new_position\n",
    "\n",
    "def initalize_two_cubes(obj1, obj2):\n",
    "    existing_positions = []\n",
    "    min_dist = 2 * 4 * np.sqrt(2) * env.cube_half_size[-1]\n",
    "    position = generate_non_overlapping_position(existing_positions, min_dist)\n",
    "    obj1.set_pose(Pose([position[0], position[1], env.cube_half_size[-1]*4], euler2quat(0, 0, np.random.uniform(-np.pi*2, np.pi*2))))\n",
    "    existing_positions.append(position)\n",
    "    position = generate_non_overlapping_position(existing_positions, min_dist)\n",
    "    obj2.set_pose(Pose([position[0], position[1], env.cube_half_size[-1]*4], euler2quat(0, 0, np.random.uniform(-np.pi*2, np.pi*2))))\n",
    "\n",
    "def place_in_direction(env, obj1, obj2, distance, direction):\n",
    "    pose_obj2 = obj2.get_pose()\n",
    "    if direction == \"front\":\n",
    "        new_position_obj1 = [pose_obj2.p[0] - distance, pose_obj2.p[1], pose_obj2.p[2]]\n",
    "    elif direction == \"behind\":\n",
    "        new_position_obj1 = [pose_obj2.p[0] + distance, pose_obj2.p[1], pose_obj2.p[2]]\n",
    "    elif direction == \"right\":\n",
    "        new_position_obj1 = [pose_obj2.p[0], pose_obj2.p[1] - distance, pose_obj2.p[2]]\n",
    "    elif direction == \"left\":\n",
    "        new_position_obj1 = [pose_obj2.p[0], pose_obj2.p[1] + distance, pose_obj2.p[2]]\n",
    "    elif direction == \"top\":\n",
    "        new_position_obj1 = [pose_obj2.p[0], pose_obj2.p[1], pose_obj2.p[2] + env.cube_half_size[-1]*4*2]\n",
    "        \n",
    "    obj1.set_pose(Pose(new_position_obj1, obj1.get_pose().q))"
   ]
  },
  {
   "cell_type": "code",
   "execution_count": 8,
   "metadata": {},
   "outputs": [
    {
     "data": {
      "text/plain": [
       "'\\nOne object\\n- Move red cube to the right / left / forward / back.\\n\\n2 objects\\n- move one object on front / behind / right / left top.\\n\\nMutliple objects\\n- move one object right / left / forward / back.\\n- move one object on front / behind / right / left top second object.\\n'"
      ]
     },
     "execution_count": 8,
     "metadata": {},
     "output_type": "execute_result"
    }
   ],
   "source": [
    "\"\"\"\n",
    "One object\n",
    "- Move red cube to the right / left / forward / back.\n",
    "\n",
    "2 objects\n",
    "- move one object on front / behind / right / left top.\n",
    "\n",
    "Mutliple objects\n",
    "- move one object right / left / forward / back.\n",
    "- move one object on front / behind / right / left top second object.\n",
    "\"\"\""
   ]
  },
  {
   "cell_type": "code",
   "execution_count": 9,
   "metadata": {},
   "outputs": [
    {
     "name": "stderr",
     "output_type": "stream",
     "text": [
      "/home/mkim/miniconda3/envs/mixlab/lib/python3.8/site-packages/gymnasium/core.py:311: UserWarning: \u001b[33mWARN: env.get_actors to get variables from other wrappers is deprecated and will be removed in v1.0, to get this variable you can do `env.unwrapped.get_actors` for environment variables or `env.get_wrapper_attr('get_actors')` that will search the reminding wrappers.\u001b[0m\n",
      "  logger.warn(\n"
     ]
    },
    {
     "data": {
      "text/plain": [
       "[Actor(name=\"ground\", id=\"14\"),\n",
       " Actor(name=\"cube\", id=\"15\"),\n",
       " Actor(name=\"cube\", id=\"16\"),\n",
       " Actor(name=\"goal_site\", id=\"17\")]"
      ]
     },
     "execution_count": 9,
     "metadata": {},
     "output_type": "execute_result"
    }
   ],
   "source": [
    "env.get_actors()"
   ]
  },
  {
   "cell_type": "code",
   "execution_count": null,
   "metadata": {},
   "outputs": [],
   "source": [
    "from transforms3d.euler import euler2quat, quat2euler\n",
    "\n",
    "def register_2_object_env(size_1, color_1, size_2, color2):\n",
    "    @register_env(\"CustomEnv-v0\", max_episode_steps=200, override=True)\n",
    "    class CustomEnv(PickCubeEnv):\n",
    "        def _load_actors(self):\n",
    "            self._add_ground(render=self.bg_name is None)\n",
    "            self.obj = self._build_cube(self.cube_half_size*4, static=True)\n",
    "            self.obj2 = self._build_cube(self.cube_half_size*4, color=(0, 0, 1), static=True)\n",
    "            self.goal_site = self._build_sphere_site(self.goal_thresh)\n",
    "\n",
    "        def _register_cameras(self):\n",
    "            pose = look_at([-1, 0, 1], [0, 0, 0])\n",
    "            return CameraConfig(\n",
    "                \"base_camera\", pose.p, pose.q, 1024, 1024, np.pi/3, 0.01, 10\n",
    "            )"
   ]
  },
  {
   "cell_type": "code",
   "execution_count": 9,
   "metadata": {},
   "outputs": [
    {
     "name": "stderr",
     "output_type": "stream",
     "text": [
      "/home/mkim/miniconda3/envs/mixlab/lib/python3.8/site-packages/gymnasium/core.py:311: UserWarning: \u001b[33mWARN: env.obj to get variables from other wrappers is deprecated and will be removed in v1.0, to get this variable you can do `env.unwrapped.obj` for environment variables or `env.get_wrapper_attr('obj')` that will search the reminding wrappers.\u001b[0m\n",
      "  logger.warn(\n",
      "/home/mkim/miniconda3/envs/mixlab/lib/python3.8/site-packages/gymnasium/core.py:311: UserWarning: \u001b[33mWARN: env.obj2 to get variables from other wrappers is deprecated and will be removed in v1.0, to get this variable you can do `env.unwrapped.obj2` for environment variables or `env.get_wrapper_attr('obj2')` that will search the reminding wrappers.\u001b[0m\n",
      "  logger.warn(\n",
      "/home/mkim/miniconda3/envs/mixlab/lib/python3.8/site-packages/gymnasium/core.py:311: UserWarning: \u001b[33mWARN: env.cube_half_size to get variables from other wrappers is deprecated and will be removed in v1.0, to get this variable you can do `env.unwrapped.cube_half_size` for environment variables or `env.get_wrapper_attr('cube_half_size')` that will search the reminding wrappers.\u001b[0m\n",
      "  logger.warn(\n",
      "/home/mkim/miniconda3/envs/mixlab/lib/python3.8/site-packages/gymnasium/core.py:311: UserWarning: \u001b[33mWARN: env.obj to get variables from other wrappers is deprecated and will be removed in v1.0, to get this variable you can do `env.unwrapped.obj` for environment variables or `env.get_wrapper_attr('obj')` that will search the reminding wrappers.\u001b[0m\n",
      "  logger.warn(\n",
      "/home/mkim/miniconda3/envs/mixlab/lib/python3.8/site-packages/gymnasium/core.py:311: UserWarning: \u001b[33mWARN: env.cube_half_size to get variables from other wrappers is deprecated and will be removed in v1.0, to get this variable you can do `env.unwrapped.cube_half_size` for environment variables or `env.get_wrapper_attr('cube_half_size')` that will search the reminding wrappers.\u001b[0m\n",
      "  logger.warn(\n"
     ]
    },
    {
     "ename": "",
     "evalue": "",
     "output_type": "error",
     "traceback": [
      "\u001b[1;31mThe Kernel crashed while executing code in the current cell or a previous cell. \n",
      "\u001b[1;31mPlease review the code in the cell(s) to identify a possible cause of the failure. \n",
      "\u001b[1;31mClick <a href='https://aka.ms/vscodeJupyterKernelCrash'>here</a> for more info. \n",
      "\u001b[1;31mView Jupyter <a href='command:jupyter.viewOutput'>log</a> for further details."
     ]
    }
   ],
   "source": [
    "# 2 objects\n",
    "# - move one object on front / behind / right / left top.\n",
    "\n",
    "seed = None\n",
    "obs, _ = env.reset(seed=seed)\n",
    "np.random.seed(seed)\n",
    "\n",
    "initalize_two_cubes(env.obj, env.obj2)\n",
    "\n",
    "fig, axs = plt.subplots(2, 3, figsize=(10, 5))\n",
    "axs = axs.flatten()\n",
    "obs, _, _, _, _ = env.step(np.zeros(len(env.action_space.sample())))\n",
    "axs[0].imshow(obs['image']['base_camera']['rgb'])\n",
    "axs[0].set_title(\"initial\")\n",
    "\n",
    "# for i, direction in enumerate([\"front\", \"behind\", \"right\", \"left\", \"top\"]):\n",
    "#     place_in_direction(env, env.obj, env.obj2, env.cube_half_size[-1]*8*np.sqrt(2), direction)\n",
    "#     obs, _, _, _, _ = env.step(np.zeros(len(env.action_space.sample())))\n",
    "#     axs[i+1].imshow(obs['image']['base_camera']['rgb'])\n",
    "#     axs[i+1].set_title(direction)\n",
    "\n",
    "# plt.tight_layout()\n",
    "# plt.show()"
   ]
  },
  {
   "cell_type": "code",
   "execution_count": 22,
   "metadata": {},
   "outputs": [
    {
     "name": "stderr",
     "output_type": "stream",
     "text": [
      "/home/mkim/miniconda3/envs/mixlab/lib/python3.8/site-packages/gymnasium/core.py:311: UserWarning: \u001b[33mWARN: env.cube_half_size to get variables from other wrappers is deprecated and will be removed in v1.0, to get this variable you can do `env.unwrapped.cube_half_size` for environment variables or `env.get_wrapper_attr('cube_half_size')` that will search the reminding wrappers.\u001b[0m\n",
      "  logger.warn(\n"
     ]
    }
   ],
   "source": [
    "i = 2\n",
    "color = (0, 0, 1)\n",
    "\n",
    "old_obj = getattr(env, f\"obj{i}\")\n",
    "pose = old_obj.get_pose()\n",
    "env.unwrapped._scene.remove_actor(old_obj)\n",
    "new_obj = env.unwrapped._build_cube(env.cube_half_size*4, color=color, static=True)\n",
    "new_obj.set_pose(pose)\n",
    "setattr(env, f\"obj{i}\", new_obj)"
   ]
  },
  {
   "cell_type": "code",
   "execution_count": null,
   "metadata": {},
   "outputs": [],
   "source": []
  },
  {
   "cell_type": "code",
   "execution_count": null,
   "metadata": {},
   "outputs": [],
   "source": []
  },
  {
   "cell_type": "code",
   "execution_count": null,
   "metadata": {},
   "outputs": [],
   "source": []
  },
  {
   "cell_type": "code",
   "execution_count": 107,
   "metadata": {},
   "outputs": [],
   "source": []
  },
  {
   "cell_type": "code",
   "execution_count": 110,
   "metadata": {},
   "outputs": [
    {
     "data": {
      "text/plain": [
       "(0.0, -0.0, 1.5707963267948966)"
      ]
     },
     "execution_count": 110,
     "metadata": {},
     "output_type": "execute_result"
    }
   ],
   "source": [
    "quat2euler([1, 0, 0, 1])"
   ]
  },
  {
   "cell_type": "code",
   "execution_count": null,
   "metadata": {},
   "outputs": [],
   "source": []
  },
  {
   "cell_type": "code",
   "execution_count": null,
   "metadata": {},
   "outputs": [],
   "source": []
  },
  {
   "cell_type": "code",
   "execution_count": null,
   "metadata": {},
   "outputs": [],
   "source": []
  },
  {
   "cell_type": "code",
   "execution_count": null,
   "metadata": {},
   "outputs": [],
   "source": []
  },
  {
   "cell_type": "code",
   "execution_count": null,
   "metadata": {},
   "outputs": [],
   "source": []
  },
  {
   "cell_type": "code",
   "execution_count": null,
   "metadata": {},
   "outputs": [],
   "source": []
  },
  {
   "cell_type": "code",
   "execution_count": 23,
   "metadata": {},
   "outputs": [
    {
     "name": "stderr",
     "output_type": "stream",
     "text": [
      "/home/mkim/miniconda3/envs/mixlab/lib/python3.8/site-packages/gymnasium/core.py:311: UserWarning: \u001b[33mWARN: env.obj to get variables from other wrappers is deprecated and will be removed in v1.0, to get this variable you can do `env.unwrapped.obj` for environment variables or `env.get_wrapper_attr('obj')` that will search the reminding wrappers.\u001b[0m\n",
      "  logger.warn(\n"
     ]
    },
    {
     "data": {
      "text/plain": [
       "(0.0007933140169816259, -0.00031126577886030424, -2.4961819343348126)"
      ]
     },
     "execution_count": 23,
     "metadata": {},
     "output_type": "execute_result"
    }
   ],
   "source": [
    "from transforms3d.euler import euler2quat, quat2euler\n",
    "\n",
    "quat2euler(env.obj.get_pose().q)"
   ]
  },
  {
   "cell_type": "code",
   "execution_count": 17,
   "metadata": {},
   "outputs": [
    {
     "name": "stderr",
     "output_type": "stream",
     "text": [
      "[2024-03-07 20:46:59.350] [svulkan2] [warning] A second renderer will share the same internal context with the first one. Arguments passed to constructor will be ignored.\n"
     ]
    },
    {
     "data": {
      "image/png": "[encoded data removed]",
      "text/plain": [
       "<Figure size 1000x1000 with 9 Axes>"
      ]
     },
     "metadata": {},
     "output_type": "display_data"
    },
    {
     "data": {
      "image/png": "[encoded data removed]",
      "text/plain": [
       "<Figure size 1000x1000 with 9 Axes>"
      ]
     },
     "metadata": {},
     "output_type": "display_data"
    }
   ],
   "source": [
    "# pick and place\n",
    "env_info, init_env_state, final_env_state, actions, reset_kwargs, seed = get_nth_episode_info(\"demos/v0/rigid_body/PickCube-v0/trajectory.h5\", 0)\n",
    "# env_info, init_env_state, final_env_state, actions, reset_kwargs, seed = get_nth_episode_info(\"demos/v0/rigid_body/StackCube-v0/trajectory.h5\", 0)\n",
    "# env_info, init_env_state, final_env_state, actions, reset_kwargs, seed = get_nth_episode_info(\"demos/v0/rigid_body/PickSingleYCB-v0/073-e_lego_duplo.h5\", 0)\n",
    "# env_info, init_env_state, final_env_state, actions, reset_kwargs, seed = get_nth_episode_info(\"demos/v0/rigid_body/PickClutterYCB-v0/trajectory.h5\", 1)\n",
    "\n",
    "# aseembly\n",
    "# env_info, init_env_state, final_env_state, actions, reset_kwargs, seed = get_nth_episode_info(\"demos/v0/rigid_body/PegInsertionSide-v0/trajectory.h5\", 0)\n",
    "# env_info, init_env_state, final_env_state, actions, reset_kwargs, seed = get_nth_episode_info(\"demos/v0/rigid_body/PlugCharger-v0/trajectory.h5\", 0)\n",
    "# env_info, init_env_state, final_env_state, actions, reset_kwargs, seed = get_nth_episode_info(\"demos/v0/rigid_body/AssemblingKits-v0/trajectory.h5\", 0)\n",
    "\n",
    "# misc\n",
    "# env_info, init_env_state, final_env_state, actions, reset_kwargs, seed = get_nth_episode_info(\"demos/v0/rigid_body/TurnFaucet-v0/5002.h5\", 0)\n",
    "\n",
    "# mobile manipulation\n",
    "# env_info, init_env_state, final_env_state, actions, reset_kwargs, seed = get_nth_episode_info(\"demos/v0/rigid_body/OpenCabinetDoor-v1/1000/link_1/trajectory.h5\", 0)\n",
    "# env_info, init_env_state, final_env_state, actions, reset_kwargs, seed = get_nth_episode_info(\"demos/v0/rigid_body/OpenCabinetDrawer-v1/1000/link_1/trajectory.h5\", 0)\n",
    "# env_info, init_env_state, final_env_state, actions, reset_kwargs, seed = get_nth_episode_info(\"demos/v0/rigid_body/PushChair-v1/3001/trajectory.h5\", 0)\n",
    "# env_info, init_env_state, final_env_state, actions, reset_kwargs, seed = get_nth_episode_info(\"demos/v0/rigid_body/MoveBucket-v1/4000/trajectory.h5\", 0)\n",
    "\n",
    "\n",
    "# soft body - ignore for now\n",
    "# env_info, init_env_state, final_env_state, actions, reset_kwargs, seed = get_nth_episode_info(\"demos/v0/soft_body/Excavate-v0/trajectory.h5\", 0)\n",
    "# for excavate, there is no final state\n",
    "# env.unwrapped.set_state(env_states)\n",
    "# plt.imshow(env.unwrapped.render_rgb_array())\n",
    "\n",
    "\n",
    "# env = gym.make(\"PickSingleYCB-v0\", model_ids=\"073-e_lego_duplo\", **env_info['env_kwargs'])\n",
    "# env = gym.make(\"PickSingleYCB-v0\", model_ids=[\"002_master_chef_can\", \"003_cracker_box\"])\n",
    "env = gym.make(env_info['env_id'], **env_info['env_kwargs'])\n",
    "obs, _ = env.reset(seed=seed, options=reset_kwargs)\n",
    "# print(env.obj.name)\n",
    "\n",
    "fig, axs = plt.subplots(3, 3, figsize=(10, 10))\n",
    "env.unwrapped.set_state(init_env_state)\n",
    "obs, reward, terminated, truncated, info = env.step(actions[0])\n",
    "for i in range(3):\n",
    "    for j in range(3):\n",
    "        axs[i, j].imshow(obs[\"image\"][f\"camera_{i*3+j}\"][\"rgb\"])\n",
    "        axs[i, j].set_title(f\"Step {i*3+j+1}\")\n",
    "        axs[i, j].axis('off')\n",
    "plt.show()\n",
    "\n",
    "fig, axs = plt.subplots(3, 3, figsize=(10, 10))\n",
    "env.unwrapped.set_state(final_env_state)\n",
    "obs, reward, terminated, truncated, info = env.step(actions[-1])\n",
    "for i in range(3):\n",
    "    for j in range(3):\n",
    "        axs[i, j].imshow(obs[\"image\"][f\"camera_{i*3+j}\"][\"rgb\"])\n",
    "        axs[i, j].set_title(f\"Step {i*3+j+1}\")\n",
    "        axs[i, j].axis('off')\n",
    "plt.show()\n",
    "\n",
    "\n",
    "# plt.imshow(env.unwrapped.render_rgb_array())\n",
    "\n",
    "# # axs[0].imshow(obs[\"image\"][\"base_camera\"][\"rgb\"])\n",
    "\n",
    "# # env.unwrapped.set_state(final_env_state)\n",
    "# # obs, reward, terminated, truncated, info = env.step(actions[-1])\n",
    "# axs[1].imshow(obs[\"image\"][\"base_camera\"][\"rgb\"])\n",
    "# axs[1].imshow(env.unwrapped.render_rgb_array())"
   ]
  },
  {
   "cell_type": "code",
   "execution_count": null,
   "metadata": {},
   "outputs": [],
   "source": []
  },
  {
   "cell_type": "code",
   "execution_count": 4,
   "metadata": {},
   "outputs": [
    {
     "data": {
      "text/plain": [
       "array([0., 0., 0., 0., 0., 0., 0., 0.], dtype=float32)"
      ]
     },
     "execution_count": 4,
     "metadata": {},
     "output_type": "execute_result"
    }
   ],
   "source": [
    "np.zeros_like(actions[-1])"
   ]
  },
  {
   "cell_type": "code",
   "execution_count": null,
   "metadata": {},
   "outputs": [],
   "source": []
  },
  {
   "cell_type": "code",
   "execution_count": 12,
   "metadata": {},
   "outputs": [
    {
     "data": {
      "text/plain": [
       "(512, 512, 3)"
      ]
     },
     "execution_count": 12,
     "metadata": {},
     "output_type": "execute_result"
    }
   ],
   "source": [
    "env.unwrapped.render_rgb_array().shape"
   ]
  },
  {
   "cell_type": "code",
   "execution_count": null,
   "metadata": {},
   "outputs": [],
   "source": []
  },
  {
   "cell_type": "code",
   "execution_count": 18,
   "metadata": {},
   "outputs": [
    {
     "name": "stderr",
     "output_type": "stream",
     "text": [
      "/home/mkim/miniconda3/envs/mixlab/lib/python3.8/site-packages/gymnasium/core.py:311: UserWarning: \u001b[33mWARN: env.get_state to get variables from other wrappers is deprecated and will be removed in v1.0, to get this variable you can do `env.unwrapped.get_state` for environment variables or `env.get_wrapper_attr('get_state')` that will search the reminding wrappers.\u001b[0m\n",
      "  logger.warn(\n"
     ]
    },
    {
     "data": {
      "text/plain": [
       "(302981,)"
      ]
     },
     "execution_count": 18,
     "metadata": {},
     "output_type": "execute_result"
    }
   ],
   "source": [
    "env.get_state().shape"
   ]
  },
  {
   "cell_type": "code",
   "execution_count": null,
   "metadata": {},
   "outputs": [],
   "source": []
  },
  {
   "cell_type": "code",
   "execution_count": null,
   "metadata": {},
   "outputs": [],
   "source": [
    "\n",
    "    # fig, axs = plt.subplots(3, 3)\n",
    "    # for c in range(9): # 9 cameras\n",
    "    #     axs[c//3, c%3].imshow(obs[\"image\"][f\"camera_{c}\"]['rgb'])\n",
    "    #     axs[c//3, c%3].set_title(f\"camera_{c}\")\n",
    "\n",
    "    # fig, axs = plt.subplots(1, 2)\n",
    "\n",
    "    # plt.imshow(obs[\"image\"][\"overhead_camera_0\"]['rgb'])\n",
    "    # axs[0].imshow(env.render_rgb_array())\n",
    "    # axs[1].imshow(obs[\"image\"][\"base_camera\"]['rgb'])\n",
    "\n",
    "    # for push chair\n",
    "    # fig, axs = plt.subplots(2, 2)\n",
    "    # plt.imshow(env.unwrapped.render_rgb_array())\n",
    "    # axs[0, 0].imshow(env.unwrapped.render_rgb_array())\n",
    "    # axs[0, 1].imshow(obs[\"image\"][\"overhead_camera_0\"]['rgb'])\n",
    "    # axs[1, 0].imshow(obs[\"image\"][\"overhead_camera_1\"]['rgb'])\n",
    "    # axs[1, 1].imshow(obs[\"image\"][\"overhead_camera_2\"]['rgb'])\n"
   ]
  },
  {
   "cell_type": "code",
   "execution_count": null,
   "metadata": {},
   "outputs": [
    {
     "name": "stderr",
     "output_type": "stream",
     "text": [
      "/home/mkim/miniconda3/envs/mixlab/lib/python3.8/site-packages/gymnasium/core.py:311: UserWarning: \u001b[33mWARN: env.get_actors to get variables from other wrappers is deprecated and will be removed in v1.0, to get this variable you can do `env.unwrapped.get_actors` for environment variables or `env.get_wrapper_attr('get_actors')` that will search the reminding wrappers.\u001b[0m\n",
      "  logger.warn(\n"
     ]
    },
    {
     "data": {
      "text/plain": [
       "[Actor(name=\"ground\", id=\"14\"),\n",
       " Actor(name=\"050_medium_clamp\", id=\"15\"),\n",
       " Actor(name=\"goal_site\", id=\"16\")]"
      ]
     },
     "execution_count": 29,
     "metadata": {},
     "output_type": "execute_result"
    }
   ],
   "source": [
    "env.get_actors()"
   ]
  },
  {
   "cell_type": "code",
   "execution_count": null,
   "metadata": {},
   "outputs": [
    {
     "data": {
      "image/png": "[encoded data removed]",
      "text/plain": [
       "<Figure size 640x480 with 1 Axes>"
      ]
     },
     "metadata": {},
     "output_type": "display_data"
    },
    {
     "name": "stderr",
     "output_type": "stream",
     "text": [
      "  0%|          | 0/116 [00:00<?, ?it/s]\n",
      "[2024-03-04 13:38:02.949] [svulkan2] [warning] A second renderer will share the same internal context with the first one. Arguments passed to constructor will be ignored.\n"
     ]
    },
    {
     "ename": "KeyboardInterrupt",
     "evalue": "",
     "output_type": "error",
     "traceback": [
      "\u001b[0;31m---------------------------------------------------------------------------\u001b[0m",
      "\u001b[0;31mKeyboardInterrupt\u001b[0m                         Traceback (most recent call last)",
      "Cell \u001b[0;32mIn[28], line 22\u001b[0m\n\u001b[1;32m     19\u001b[0m env_state \u001b[38;5;241m=\u001b[39m trajectory[\u001b[38;5;124m\"\u001b[39m\u001b[38;5;124menv_states\u001b[39m\u001b[38;5;124m\"\u001b[39m][\u001b[38;5;241m0\u001b[39m]\n\u001b[1;32m     20\u001b[0m actions \u001b[38;5;241m=\u001b[39m trajectory[\u001b[38;5;124m'\u001b[39m\u001b[38;5;124mactions\u001b[39m\u001b[38;5;124m'\u001b[39m]\n\u001b[0;32m---> 22\u001b[0m env \u001b[38;5;241m=\u001b[39m \u001b[43mgym\u001b[49m\u001b[38;5;241;43m.\u001b[39;49m\u001b[43mmake\u001b[49m\u001b[43m(\u001b[49m\u001b[43menv_info\u001b[49m\u001b[43m[\u001b[49m\u001b[38;5;124;43m\"\u001b[39;49m\u001b[38;5;124;43menv_id\u001b[39;49m\u001b[38;5;124;43m\"\u001b[39;49m\u001b[43m]\u001b[49m\u001b[43m,\u001b[49m\u001b[43m \u001b[49m\u001b[43mcamera_cfgs\u001b[49m\u001b[38;5;241;43m=\u001b[39;49m\u001b[43m{\u001b[49m\u001b[38;5;124;43m\"\u001b[39;49m\u001b[38;5;124;43madd_segmentation\u001b[39;49m\u001b[38;5;124;43m\"\u001b[39;49m\u001b[43m:\u001b[49m\u001b[43m \u001b[49m\u001b[38;5;28;43;01mTrue\u001b[39;49;00m\u001b[43m}\u001b[49m\u001b[43m,\u001b[49m\u001b[43m \u001b[49m\u001b[38;5;241;43m*\u001b[39;49m\u001b[38;5;241;43m*\u001b[39;49m\u001b[43menv_info\u001b[49m\u001b[43m[\u001b[49m\u001b[38;5;124;43m\"\u001b[39;49m\u001b[38;5;124;43menv_kwargs\u001b[39;49m\u001b[38;5;124;43m\"\u001b[39;49m\u001b[43m]\u001b[49m\u001b[43m)\u001b[49m\n\u001b[1;32m     23\u001b[0m obs, _ \u001b[38;5;241m=\u001b[39m env\u001b[38;5;241m.\u001b[39mreset()\n\u001b[1;32m     24\u001b[0m env\u001b[38;5;241m.\u001b[39mset_state(env_state)\n",
      "File \u001b[0;32m~/miniconda3/envs/mixlab/lib/python3.8/site-packages/gymnasium/envs/registration.py:802\u001b[0m, in \u001b[0;36mmake\u001b[0;34m(id, max_episode_steps, autoreset, apply_api_compatibility, disable_env_checker, **kwargs)\u001b[0m\n\u001b[1;32m    799\u001b[0m     render_mode \u001b[38;5;241m=\u001b[39m \u001b[38;5;28;01mNone\u001b[39;00m\n\u001b[1;32m    801\u001b[0m \u001b[38;5;28;01mtry\u001b[39;00m:\n\u001b[0;32m--> 802\u001b[0m     env \u001b[38;5;241m=\u001b[39m \u001b[43menv_creator\u001b[49m\u001b[43m(\u001b[49m\u001b[38;5;241;43m*\u001b[39;49m\u001b[38;5;241;43m*\u001b[39;49m\u001b[43menv_spec_kwargs\u001b[49m\u001b[43m)\u001b[49m\n\u001b[1;32m    803\u001b[0m \u001b[38;5;28;01mexcept\u001b[39;00m \u001b[38;5;167;01mTypeError\u001b[39;00m \u001b[38;5;28;01mas\u001b[39;00m e:\n\u001b[1;32m    804\u001b[0m     \u001b[38;5;28;01mif\u001b[39;00m (\n\u001b[1;32m    805\u001b[0m         \u001b[38;5;28mstr\u001b[39m(e)\u001b[38;5;241m.\u001b[39mfind(\u001b[38;5;124m\"\u001b[39m\u001b[38;5;124mgot an unexpected keyword argument \u001b[39m\u001b[38;5;124m'\u001b[39m\u001b[38;5;124mrender_mode\u001b[39m\u001b[38;5;124m'\u001b[39m\u001b[38;5;124m\"\u001b[39m) \u001b[38;5;241m>\u001b[39m\u001b[38;5;241m=\u001b[39m \u001b[38;5;241m0\u001b[39m\n\u001b[1;32m    806\u001b[0m         \u001b[38;5;129;01mand\u001b[39;00m apply_human_rendering\n\u001b[1;32m    807\u001b[0m     ):\n",
      "File \u001b[0;32m~/miniconda3/envs/mixlab/lib/python3.8/site-packages/mani_skill2/utils/registration.py:92\u001b[0m, in \u001b[0;36mmake\u001b[0;34m(env_id, as_gym, enable_segmentation, **kwargs)\u001b[0m\n\u001b[1;32m     89\u001b[0m     camera_cfgs[\u001b[38;5;124m\"\u001b[39m\u001b[38;5;124madd_segmentation\u001b[39m\u001b[38;5;124m\"\u001b[39m] \u001b[38;5;241m=\u001b[39m \u001b[38;5;28;01mTrue\u001b[39;00m\n\u001b[1;32m     90\u001b[0m     kwargs[\u001b[38;5;124m\"\u001b[39m\u001b[38;5;124mcamera_cfgs\u001b[39m\u001b[38;5;124m\"\u001b[39m] \u001b[38;5;241m=\u001b[39m camera_cfgs\n\u001b[0;32m---> 92\u001b[0m env \u001b[38;5;241m=\u001b[39m \u001b[43menv_spec\u001b[49m\u001b[38;5;241;43m.\u001b[39;49m\u001b[43mmake\u001b[49m\u001b[43m(\u001b[49m\u001b[38;5;241;43m*\u001b[39;49m\u001b[38;5;241;43m*\u001b[39;49m\u001b[43mkwargs\u001b[49m\u001b[43m)\u001b[49m\n\u001b[1;32m     94\u001b[0m \u001b[38;5;66;03m# Dispatch observation wrapper\u001b[39;00m\n\u001b[1;32m     95\u001b[0m \u001b[38;5;28;01mif\u001b[39;00m \u001b[38;5;124m\"\u001b[39m\u001b[38;5;124mrgbd\u001b[39m\u001b[38;5;124m\"\u001b[39m \u001b[38;5;129;01min\u001b[39;00m obs_mode:\n",
      "File \u001b[0;32m~/miniconda3/envs/mixlab/lib/python3.8/site-packages/mani_skill2/utils/registration.py:34\u001b[0m, in \u001b[0;36mEnvSpec.make\u001b[0;34m(self, **kwargs)\u001b[0m\n\u001b[1;32m     32\u001b[0m _kwargs \u001b[38;5;241m=\u001b[39m \u001b[38;5;28mself\u001b[39m\u001b[38;5;241m.\u001b[39mdefault_kwargs\u001b[38;5;241m.\u001b[39mcopy()\n\u001b[1;32m     33\u001b[0m _kwargs\u001b[38;5;241m.\u001b[39mupdate(kwargs)\n\u001b[0;32m---> 34\u001b[0m \u001b[38;5;28;01mreturn\u001b[39;00m \u001b[38;5;28;43mself\u001b[39;49m\u001b[38;5;241;43m.\u001b[39;49m\u001b[43mcls\u001b[49m\u001b[43m(\u001b[49m\u001b[38;5;241;43m*\u001b[39;49m\u001b[38;5;241;43m*\u001b[39;49m\u001b[43m_kwargs\u001b[49m\u001b[43m)\u001b[49m\n",
      "File \u001b[0;32m~/miniconda3/envs/mixlab/lib/python3.8/site-packages/mani_skill2/envs/pick_and_place/pick_single.py:69\u001b[0m, in \u001b[0;36mPickSingleEnv.__init__\u001b[0;34m(self, asset_root, model_json, model_ids, obj_init_rot_z, obj_init_rot, goal_thresh, **kwargs)\u001b[0m\n\u001b[1;32m     66\u001b[0m \u001b[38;5;28mself\u001b[39m\u001b[38;5;241m.\u001b[39mgoal_thresh \u001b[38;5;241m=\u001b[39m goal_thresh\n\u001b[1;32m     68\u001b[0m \u001b[38;5;28mself\u001b[39m\u001b[38;5;241m.\u001b[39m_check_assets()\n\u001b[0;32m---> 69\u001b[0m \u001b[38;5;28;43msuper\u001b[39;49m\u001b[43m(\u001b[49m\u001b[43m)\u001b[49m\u001b[38;5;241;43m.\u001b[39;49m\u001b[38;5;21;43m__init__\u001b[39;49m\u001b[43m(\u001b[49m\u001b[38;5;241;43m*\u001b[39;49m\u001b[38;5;241;43m*\u001b[39;49m\u001b[43mkwargs\u001b[49m\u001b[43m)\u001b[49m\n",
      "File \u001b[0;32m~/miniconda3/envs/mixlab/lib/python3.8/site-packages/mani_skill2/envs/pick_and_place/base_env.py:27\u001b[0m, in \u001b[0;36mStationaryManipulationEnv.__init__\u001b[0;34m(self, robot, robot_init_qpos_noise, *args, **kwargs)\u001b[0m\n\u001b[1;32m     25\u001b[0m \u001b[38;5;28mself\u001b[39m\u001b[38;5;241m.\u001b[39mrobot_uid \u001b[38;5;241m=\u001b[39m robot\n\u001b[1;32m     26\u001b[0m \u001b[38;5;28mself\u001b[39m\u001b[38;5;241m.\u001b[39mrobot_init_qpos_noise \u001b[38;5;241m=\u001b[39m robot_init_qpos_noise\n\u001b[0;32m---> 27\u001b[0m \u001b[38;5;28;43msuper\u001b[39;49m\u001b[43m(\u001b[49m\u001b[43m)\u001b[49m\u001b[38;5;241;43m.\u001b[39;49m\u001b[38;5;21;43m__init__\u001b[39;49m\u001b[43m(\u001b[49m\u001b[38;5;241;43m*\u001b[39;49m\u001b[43margs\u001b[49m\u001b[43m,\u001b[49m\u001b[43m \u001b[49m\u001b[38;5;241;43m*\u001b[39;49m\u001b[38;5;241;43m*\u001b[39;49m\u001b[43mkwargs\u001b[49m\u001b[43m)\u001b[49m\n",
      "File \u001b[0;32m~/miniconda3/envs/mixlab/lib/python3.8/site-packages/mani_skill2/envs/sapien_env.py:188\u001b[0m, in \u001b[0;36mBaseEnv.__init__\u001b[0;34m(self, obs_mode, reward_mode, control_mode, render_mode, sim_freq, control_freq, renderer, renderer_kwargs, shader_dir, render_config, enable_shadow, camera_cfgs, render_camera_cfgs, bg_name)\u001b[0m\n\u001b[1;32m    186\u001b[0m \u001b[38;5;28mself\u001b[39m\u001b[38;5;241m.\u001b[39m_main_seed \u001b[38;5;241m=\u001b[39m \u001b[38;5;28;01mNone\u001b[39;00m\n\u001b[1;32m    187\u001b[0m \u001b[38;5;28mself\u001b[39m\u001b[38;5;241m.\u001b[39mset_main_rng(\u001b[38;5;241m2022\u001b[39m)\n\u001b[0;32m--> 188\u001b[0m obs, _ \u001b[38;5;241m=\u001b[39m \u001b[38;5;28;43mself\u001b[39;49m\u001b[38;5;241;43m.\u001b[39;49m\u001b[43mreset\u001b[49m\u001b[43m(\u001b[49m\u001b[43mseed\u001b[49m\u001b[38;5;241;43m=\u001b[39;49m\u001b[38;5;241;43m2022\u001b[39;49m\u001b[43m,\u001b[49m\u001b[43m \u001b[49m\u001b[43moptions\u001b[49m\u001b[38;5;241;43m=\u001b[39;49m\u001b[38;5;28;43mdict\u001b[39;49m\u001b[43m(\u001b[49m\u001b[43mreconfigure\u001b[49m\u001b[38;5;241;43m=\u001b[39;49m\u001b[38;5;28;43;01mTrue\u001b[39;49;00m\u001b[43m)\u001b[49m\u001b[43m)\u001b[49m\n\u001b[1;32m    189\u001b[0m \u001b[38;5;28mself\u001b[39m\u001b[38;5;241m.\u001b[39mobservation_space \u001b[38;5;241m=\u001b[39m convert_observation_to_space(obs)\n\u001b[1;32m    190\u001b[0m \u001b[38;5;28;01mif\u001b[39;00m \u001b[38;5;28mself\u001b[39m\u001b[38;5;241m.\u001b[39m_obs_mode \u001b[38;5;241m==\u001b[39m \u001b[38;5;124m\"\u001b[39m\u001b[38;5;124mimage\u001b[39m\u001b[38;5;124m\"\u001b[39m:\n",
      "File \u001b[0;32m~/miniconda3/envs/mixlab/lib/python3.8/site-packages/mani_skill2/envs/pick_and_place/pick_single.py:95\u001b[0m, in \u001b[0;36mPickSingleEnv.reset\u001b[0;34m(self, seed, options)\u001b[0m\n\u001b[1;32m     93\u001b[0m reconfigure \u001b[38;5;241m=\u001b[39m _reconfigure \u001b[38;5;129;01mor\u001b[39;00m reconfigure\n\u001b[1;32m     94\u001b[0m options[\u001b[38;5;124m\"\u001b[39m\u001b[38;5;124mreconfigure\u001b[39m\u001b[38;5;124m\"\u001b[39m] \u001b[38;5;241m=\u001b[39m reconfigure\n\u001b[0;32m---> 95\u001b[0m \u001b[38;5;28;01mreturn\u001b[39;00m \u001b[38;5;28;43msuper\u001b[39;49m\u001b[43m(\u001b[49m\u001b[43m)\u001b[49m\u001b[38;5;241;43m.\u001b[39;49m\u001b[43mreset\u001b[49m\u001b[43m(\u001b[49m\u001b[43mseed\u001b[49m\u001b[38;5;241;43m=\u001b[39;49m\u001b[38;5;28;43mself\u001b[39;49m\u001b[38;5;241;43m.\u001b[39;49m\u001b[43m_episode_seed\u001b[49m\u001b[43m,\u001b[49m\u001b[43m \u001b[49m\u001b[43moptions\u001b[49m\u001b[38;5;241;43m=\u001b[39;49m\u001b[43moptions\u001b[49m\u001b[43m)\u001b[49m\n",
      "File \u001b[0;32m~/miniconda3/envs/mixlab/lib/python3.8/site-packages/mani_skill2/envs/sapien_env.py:491\u001b[0m, in \u001b[0;36mBaseEnv.reset\u001b[0;34m(self, seed, options)\u001b[0m\n\u001b[1;32m    489\u001b[0m \u001b[38;5;66;03m# Set the episode rng again after reconfiguration to guarantee seed reproducibility\u001b[39;00m\n\u001b[1;32m    490\u001b[0m \u001b[38;5;28mself\u001b[39m\u001b[38;5;241m.\u001b[39mset_episode_rng(\u001b[38;5;28mself\u001b[39m\u001b[38;5;241m.\u001b[39m_episode_seed)\n\u001b[0;32m--> 491\u001b[0m \u001b[38;5;28;43mself\u001b[39;49m\u001b[38;5;241;43m.\u001b[39;49m\u001b[43minitialize_episode\u001b[49m\u001b[43m(\u001b[49m\u001b[43m)\u001b[49m\n\u001b[1;32m    493\u001b[0m \u001b[38;5;28;01mreturn\u001b[39;00m \u001b[38;5;28mself\u001b[39m\u001b[38;5;241m.\u001b[39mget_obs(), {}\n",
      "File \u001b[0;32m~/miniconda3/envs/mixlab/lib/python3.8/site-packages/mani_skill2/envs/sapien_env.py:516\u001b[0m, in \u001b[0;36mBaseEnv.initialize_episode\u001b[0;34m(self)\u001b[0m\n\u001b[1;32m    512\u001b[0m \u001b[38;5;28;01mdef\u001b[39;00m \u001b[38;5;21minitialize_episode\u001b[39m(\u001b[38;5;28mself\u001b[39m):\n\u001b[1;32m    513\u001b[0m \u001b[38;5;250m    \u001b[39m\u001b[38;5;124;03m\"\"\"Initialize the episode, e.g., poses of actors and articulations, and robot configuration.\u001b[39;00m\n\u001b[1;32m    514\u001b[0m \u001b[38;5;124;03m    No new assets are created. Task-relevant information can be initialized here, like goals.\u001b[39;00m\n\u001b[1;32m    515\u001b[0m \u001b[38;5;124;03m    \"\"\"\u001b[39;00m\n\u001b[0;32m--> 516\u001b[0m     \u001b[38;5;28;43mself\u001b[39;49m\u001b[38;5;241;43m.\u001b[39;49m\u001b[43m_initialize_actors\u001b[49m\u001b[43m(\u001b[49m\u001b[43m)\u001b[49m\n\u001b[1;32m    517\u001b[0m     \u001b[38;5;28mself\u001b[39m\u001b[38;5;241m.\u001b[39m_initialize_articulations()\n\u001b[1;32m    518\u001b[0m     \u001b[38;5;28mself\u001b[39m\u001b[38;5;241m.\u001b[39m_initialize_agent()\n",
      "File \u001b[0;32m~/miniconda3/envs/mixlab/lib/python3.8/site-packages/mani_skill2/envs/pick_and_place/pick_single.py:161\u001b[0m, in \u001b[0;36mPickSingleEnv._initialize_actors\u001b[0;34m(self)\u001b[0m\n\u001b[1;32m    159\u001b[0m \u001b[38;5;66;03m# Lock rotation around x and y\u001b[39;00m\n\u001b[1;32m    160\u001b[0m \u001b[38;5;28mself\u001b[39m\u001b[38;5;241m.\u001b[39mobj\u001b[38;5;241m.\u001b[39mlock_motion(\u001b[38;5;241m0\u001b[39m, \u001b[38;5;241m0\u001b[39m, \u001b[38;5;241m0\u001b[39m, \u001b[38;5;241m1\u001b[39m, \u001b[38;5;241m1\u001b[39m, \u001b[38;5;241m0\u001b[39m)\n\u001b[0;32m--> 161\u001b[0m \u001b[38;5;28;43mself\u001b[39;49m\u001b[38;5;241;43m.\u001b[39;49m\u001b[43m_settle\u001b[49m\u001b[43m(\u001b[49m\u001b[38;5;241;43m0.5\u001b[39;49m\u001b[43m)\u001b[49m\n\u001b[1;32m    163\u001b[0m \u001b[38;5;66;03m# Unlock motion\u001b[39;00m\n\u001b[1;32m    164\u001b[0m \u001b[38;5;28mself\u001b[39m\u001b[38;5;241m.\u001b[39mobj\u001b[38;5;241m.\u001b[39mlock_motion(\u001b[38;5;241m0\u001b[39m, \u001b[38;5;241m0\u001b[39m, \u001b[38;5;241m0\u001b[39m, \u001b[38;5;241m0\u001b[39m, \u001b[38;5;241m0\u001b[39m, \u001b[38;5;241m0\u001b[39m)\n",
      "File \u001b[0;32m~/miniconda3/envs/mixlab/lib/python3.8/site-packages/mani_skill2/envs/pick_and_place/pick_single.py:133\u001b[0m, in \u001b[0;36mPickSingleEnv._settle\u001b[0;34m(self, t)\u001b[0m\n\u001b[1;32m    131\u001b[0m sim_steps \u001b[38;5;241m=\u001b[39m \u001b[38;5;28mint\u001b[39m(\u001b[38;5;28mself\u001b[39m\u001b[38;5;241m.\u001b[39msim_freq \u001b[38;5;241m*\u001b[39m t)\n\u001b[1;32m    132\u001b[0m \u001b[38;5;28;01mfor\u001b[39;00m _ \u001b[38;5;129;01min\u001b[39;00m \u001b[38;5;28mrange\u001b[39m(sim_steps):\n\u001b[0;32m--> 133\u001b[0m     \u001b[38;5;28;43mself\u001b[39;49m\u001b[38;5;241;43m.\u001b[39;49m\u001b[43m_scene\u001b[49m\u001b[38;5;241;43m.\u001b[39;49m\u001b[43mstep\u001b[49m\u001b[43m(\u001b[49m\u001b[43m)\u001b[49m\n",
      "\u001b[0;31mKeyboardInterrupt\u001b[0m: "
     ]
    }
   ],
   "source": [
    "from glob import glob\n",
    "\n",
    "for dataset_file in glob(\"ManiSkill2/demos/v0/rigid_body/PickSingleYCB-v0/PickSingleYCB-v0/*.h5\"):\n",
    "    print(dataset_file)\n",
    "# dataset_file = \"ManiSkill2/demos/v0/rigid_body/PickSingleYCB-v0/PickSingleYCB-v0/058_golf_ball.h5\"\n",
    "\n",
    "    data = h5py.File(dataset_file, \"r\")\n",
    "    json_path = dataset_file.replace(\".h5\", \".json\")\n",
    "    json_data = load_json(json_path)\n",
    "    episodes = json_data[\"episodes\"]\n",
    "    env_info = json_data[\"env_info\"]\n",
    "    env_info[\"env_kwargs\"][\"obs_mode\"] = 'rgbd'\n",
    "\n",
    "    for j in range(10):\n",
    "        eps = episodes[j]\n",
    "        trajectory = data[f\"traj_{eps['episode_id']}\"]\n",
    "        trajectory = load_h5_data(trajectory)\n",
    "\n",
    "        env_state = trajectory[\"env_states\"][0]\n",
    "        actions = trajectory['actions']\n",
    "\n",
    "        env = gym.make(env_info[\"env_id\"], camera_cfgs={\"add_segmentation\": True}, **env_info[\"env_kwargs\"])\n",
    "        obs, _ = env.reset()\n",
    "        env.set_state(env_state)\n",
    "\n",
    "        for i in tqdm(range(actions.shape[0])):\n",
    "            obs, reward, terminated, truncated, info = env.step(actions[i])\n",
    "            clear_output(wait=True)\n",
    "            # plt.imshow(env.render_rgb_array())\n",
    "            plt.imshow(obs[\"image\"][\"base_camera\"][\"rgb\"])\n",
    "            plt.show()\n",
    "            break"
   ]
  },
  {
   "cell_type": "code",
   "execution_count": null,
   "metadata": {},
   "outputs": [],
   "source": []
  },
  {
   "cell_type": "code",
   "execution_count": null,
   "metadata": {},
   "outputs": [],
   "source": []
  },
  {
   "cell_type": "code",
   "execution_count": null,
   "metadata": {},
   "outputs": [],
   "source": []
  },
  {
   "cell_type": "code",
   "execution_count": null,
   "metadata": {},
   "outputs": [],
   "source": []
  },
  {
   "cell_type": "code",
   "execution_count": null,
   "metadata": {},
   "outputs": [],
   "source": []
  },
  {
   "cell_type": "code",
   "execution_count": null,
   "metadata": {},
   "outputs": [],
   "source": []
  },
  {
   "cell_type": "code",
   "execution_count": null,
   "metadata": {},
   "outputs": [
    {
     "data": {
      "text/plain": [
       "([Actor(name=\"\", id=\"32\"),\n",
       "  Actor(name=\"visual_ground\", id=\"33\"),\n",
       "  Actor(name=\"target_indicator\", id=\"34\")],\n",
       " [<sapien.core.pysapien.Articulation at 0x7f9e57fdf5b0>,\n",
       "  <sapien.core.pysapien.Articulation at 0x7f9e4af3f870>])"
      ]
     },
     "execution_count": 5,
     "metadata": {},
     "output_type": "execute_result"
    }
   ],
   "source": [
    "env.get_actors(), env.get_articulations()"
   ]
  },
  {
   "cell_type": "code",
   "execution_count": null,
   "metadata": {},
   "outputs": [
    {
     "data": {
      "text/plain": [
       "(133,)"
      ]
     },
     "execution_count": 13,
     "metadata": {},
     "output_type": "execute_result"
    }
   ],
   "source": [
    "env_state.shape"
   ]
  },
  {
   "cell_type": "code",
   "execution_count": null,
   "metadata": {},
   "outputs": [
    {
     "name": "stdout",
     "output_type": "stream",
     "text": [
      "actors: \n",
      "(13,) ground\n",
      "(13,) visual_ground\n",
      "(13,) target_indicator\n",
      "articulation: \n",
      "(57,) mobile_panda_dual_arm\n",
      "(37,) 3020\n"
     ]
    },
    {
     "name": "stderr",
     "output_type": "stream",
     "text": [
      "/home/mkim/miniconda3/envs/mixlab/lib/python3.8/site-packages/gymnasium/core.py:311: UserWarning: \u001b[33mWARN: env.get_sim_state to get variables from other wrappers is deprecated and will be removed in v1.0, to get this variable you can do `env.unwrapped.get_sim_state` for environment variables or `env.get_wrapper_attr('get_sim_state')` that will search the reminding wrappers.\u001b[0m\n",
      "  logger.warn(\n"
     ]
    },
    {
     "data": {
      "text/plain": [
       "(133,)"
      ]
     },
     "execution_count": 11,
     "metadata": {},
     "output_type": "execute_result"
    }
   ],
   "source": [
    "env.get_sim_state().shape"
   ]
  },
  {
   "cell_type": "code",
   "execution_count": null,
   "metadata": {},
   "outputs": [],
   "source": []
  }
 ],
 "metadata": {
  "kernelspec": {
   "display_name": "mixlab",
   "language": "python",
   "name": "python3"
  },
  "language_info": {
   "codemirror_mode": {
    "name": "ipython",
    "version": 3
   },
   "file_extension": ".py",
   "mimetype": "text/x-python",
   "name": "python",
   "nbconvert_exporter": "python",
   "pygments_lexer": "ipython3",
   "version": "3.8.18"
  }
 },
 "nbformat": 4,
 "nbformat_minor": 2
}
