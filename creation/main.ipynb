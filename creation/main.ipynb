{
 "cells": [
  {
   "cell_type": "code",
   "execution_count": 1,
   "metadata": {},
   "outputs": [],
   "source": [
    "import matplotlib.pyplot as plt\n",
    "import numpy as np\n",
    "from utils.objects import GenerationClass\n",
    "from utils.config import color_maps, ycb_heights\n",
    "import os\n",
    "from glob import glob\n",
    "from scipy import sparse\n",
    "from PIL import Image\n",
    "import json\n",
    "from mani_skill2.envs.pick_and_place.pick_cube import PickCubeEnv\n",
    "from mani_skill2.utils.sapien_utils import look_at\n",
    "from mani_skill2.sensors.camera import CameraConfig\n",
    "from mani_skill2.utils.registration import register_env\n",
    "from pathlib import Path\n",
    "import gymnasium as gym\n",
    "from sapien.core import Pose\n",
    "import numpy as np\n",
    "from transforms3d.euler import euler2quat, quat2euler\n",
    "from utils.config import ycb_heights, color_maps\n",
    "from glob import glob\n",
    "from scipy import sparse\n",
    "from PIL import Image\n",
    "import json\n",
    "import os\n",
    "\n",
    "from IPython.display import clear_output\n",
    "# save_dir = \"../final_data/\"\n",
    "# move_one_dir = os.path.join(save_dir, \"move\")\n",
    "# move_cube_dir = os.path.join(move_one_dir, \"cube\")\n",
    "# move_ycb_dir = os.path.join(move_one_dir, \"ycb\")\n",
    "# os.makedirs(move_one_dir, exist_ok=True)\n",
    "# os.makedirs(move_cube_dir, exist_ok=True)\n",
    "# os.makedirs(move_ycb_dir, exist_ok=True)"
   ]
  },
  {
   "cell_type": "code",
   "execution_count": 2,
   "metadata": {},
   "outputs": [],
   "source": [
    "from mani_skill2.envs.pick_and_place.pick_cube import PickCubeEnv\n",
    "from utils.avoid_collision import AvoidCollision\n",
    "\n",
    "\n",
    "generator = AvoidCollision()"
   ]
  },
  {
   "cell_type": "code",
   "execution_count": 3,
   "metadata": {},
   "outputs": [
    {
     "name": "stderr",
     "output_type": "stream",
     "text": [
      "[2024-04-11 21:34:12.532] [svulkan2] [error] GLFW error: X11: The DISPLAY environment variable is missing\n",
      "[2024-04-11 21:34:12.532] [svulkan2] [warning] Continue without GLFW.\n",
      "/home/mkim/miniconda3/envs/mixlab/lib/python3.10/site-packages/gymnasium/core.py:311: UserWarning: \u001b[33mWARN: env.cube_half_size to get variables from other wrappers is deprecated and will be removed in v1.0, to get this variable you can do `env.unwrapped.cube_half_size` for environment variables or `env.get_wrapper_attr('cube_half_size')` that will search the reminding wrappers.\u001b[0m\n",
      "  logger.warn(\n"
     ]
    },
    {
     "name": "stdout",
     "output_type": "stream",
     "text": [
      "Saved data for 0-0\n",
      "Saved data for 0-1\n",
      "Saved data for 0-2\n",
      "Saved data for 0-3\n"
     ]
    },
    {
     "name": "stderr",
     "output_type": "stream",
     "text": [
      "\u001b[33;1m2024-04-11 21:34:18,826 - mani_skill2 - WARNING - Override registered env CustomEnv-v0\u001b[0m\n"
     ]
    },
    {
     "name": "stdout",
     "output_type": "stream",
     "text": [
      "Saved data for 0-4\n"
     ]
    },
    {
     "name": "stderr",
     "output_type": "stream",
     "text": [
      "[2024-04-11 21:34:18.827] [svulkan2] [warning] A second renderer will share the same internal context with the first one. Arguments passed to constructor will be ignored.\n"
     ]
    },
    {
     "name": "stdout",
     "output_type": "stream",
     "text": [
      "Saved data for 1-0\n",
      "Saved data for 1-1\n",
      "Saved data for 1-2\n",
      "Saved data for 1-3\n"
     ]
    },
    {
     "name": "stderr",
     "output_type": "stream",
     "text": [
      "\u001b[33;1m2024-04-11 21:34:26,255 - mani_skill2 - WARNING - Override registered env CustomEnv-v0\u001b[0m\n"
     ]
    },
    {
     "name": "stdout",
     "output_type": "stream",
     "text": [
      "Saved data for 1-4\n"
     ]
    },
    {
     "name": "stderr",
     "output_type": "stream",
     "text": [
      "[2024-04-11 21:34:26.255] [svulkan2] [warning] A second renderer will share the same internal context with the first one. Arguments passed to constructor will be ignored.\n"
     ]
    },
    {
     "name": "stdout",
     "output_type": "stream",
     "text": [
      "Saved data for 2-0\n",
      "Saved data for 2-1\n",
      "Saved data for 2-2\n",
      "Saved data for 2-3\n"
     ]
    },
    {
     "name": "stderr",
     "output_type": "stream",
     "text": [
      "\u001b[33;1m2024-04-11 21:34:56,977 - mani_skill2 - WARNING - Override registered env CustomEnv-v0\u001b[0m\n"
     ]
    },
    {
     "name": "stdout",
     "output_type": "stream",
     "text": [
      "No path found for 2-4\n"
     ]
    },
    {
     "name": "stderr",
     "output_type": "stream",
     "text": [
      "[2024-04-11 21:34:56.978] [svulkan2] [warning] A second renderer will share the same internal context with the first one. Arguments passed to constructor will be ignored.\n"
     ]
    },
    {
     "name": "stdout",
     "output_type": "stream",
     "text": [
      "Saved data for 3-0\n",
      "Saved data for 3-1\n"
     ]
    },
    {
     "ename": "KeyboardInterrupt",
     "evalue": "",
     "output_type": "error",
     "traceback": [
      "\u001b[0;31m---------------------------------------------------------------------------\u001b[0m",
      "\u001b[0;31mKeyboardInterrupt\u001b[0m                         Traceback (most recent call last)",
      "Cell \u001b[0;32mIn[3], line 1\u001b[0m\n\u001b[0;32m----> 1\u001b[0m \u001b[43mgenerator\u001b[49m\u001b[38;5;241;43m.\u001b[39;49m\u001b[43mgenerate\u001b[49m\u001b[43m(\u001b[49m\u001b[38;5;241;43m10\u001b[39;49m\u001b[43m,\u001b[49m\u001b[43m \u001b[49m\u001b[43mrandom_trials\u001b[49m\u001b[43m \u001b[49m\u001b[38;5;241;43m=\u001b[39;49m\u001b[43m \u001b[49m\u001b[38;5;241;43m5\u001b[39;49m\u001b[43m,\u001b[49m\u001b[43m \u001b[49m\u001b[43mdata_dir\u001b[49m\u001b[38;5;241;43m=\u001b[39;49m\u001b[38;5;124;43m\"\u001b[39;49m\u001b[38;5;124;43m../final_data/cube/avoid_collision\u001b[39;49m\u001b[38;5;124;43m\"\u001b[39;49m\u001b[43m)\u001b[49m\n",
      "File \u001b[0;32m~/Nserver/mix-lab/maniskill2_dev/creation/utils/avoid_collision.py:316\u001b[0m, in \u001b[0;36mAvoidCollision.generate\u001b[0;34m(self, N, random_trials, data_dir)\u001b[0m\n\u001b[1;32m    313\u001b[0m obj\u001b[38;5;241m.\u001b[39mset_pose(Pose([xy_path[i][\u001b[38;5;241m0\u001b[39m], xy_path[i][\u001b[38;5;241m1\u001b[39m], \u001b[38;5;28mself\u001b[39m\u001b[38;5;241m.\u001b[39mcube_size], obj\u001b[38;5;241m.\u001b[39mget_pose()\u001b[38;5;241m.\u001b[39mq))\n\u001b[1;32m    314\u001b[0m \u001b[38;5;28;01mif\u001b[39;00m i \u001b[38;5;241m%\u001b[39m \u001b[38;5;241m9\u001b[39m \u001b[38;5;241m==\u001b[39m \u001b[38;5;241m0\u001b[39m \u001b[38;5;129;01mor\u001b[39;00m i \u001b[38;5;241m==\u001b[39m xy_path\u001b[38;5;241m.\u001b[39mshape[\u001b[38;5;241m0\u001b[39m] \u001b[38;5;241m-\u001b[39m \u001b[38;5;241m1\u001b[39m:\n\u001b[1;32m    315\u001b[0m     \u001b[38;5;66;03m# clear_output(wait=True)\u001b[39;00m\n\u001b[0;32m--> 316\u001b[0m     obs, _, _, _, _ \u001b[38;5;241m=\u001b[39m \u001b[43menv\u001b[49m\u001b[38;5;241;43m.\u001b[39;49m\u001b[43mstep\u001b[49m\u001b[43m(\u001b[49m\u001b[43menv\u001b[49m\u001b[38;5;241;43m.\u001b[39;49m\u001b[43maction_space\u001b[49m\u001b[38;5;241;43m.\u001b[39;49m\u001b[43msample\u001b[49m\u001b[43m(\u001b[49m\u001b[43m)\u001b[49m\u001b[43m)\u001b[49m\n\u001b[1;32m    317\u001b[0m     img \u001b[38;5;241m=\u001b[39m obs[\u001b[38;5;124m\"\u001b[39m\u001b[38;5;124mimage\u001b[39m\u001b[38;5;124m\"\u001b[39m][\u001b[38;5;124m\"\u001b[39m\u001b[38;5;124mbase_camera\u001b[39m\u001b[38;5;124m\"\u001b[39m][\u001b[38;5;124m\"\u001b[39m\u001b[38;5;124mrgb\u001b[39m\u001b[38;5;124m\"\u001b[39m]\n\u001b[1;32m    319\u001b[0m     \u001b[38;5;66;03m# save frames\u001b[39;00m\n",
      "File \u001b[0;32m~/miniconda3/envs/mixlab/lib/python3.10/site-packages/gymnasium/wrappers/time_limit.py:57\u001b[0m, in \u001b[0;36mTimeLimit.step\u001b[0;34m(self, action)\u001b[0m\n\u001b[1;32m     46\u001b[0m \u001b[38;5;28;01mdef\u001b[39;00m \u001b[38;5;21mstep\u001b[39m(\u001b[38;5;28mself\u001b[39m, action):\n\u001b[1;32m     47\u001b[0m \u001b[38;5;250m    \u001b[39m\u001b[38;5;124;03m\"\"\"Steps through the environment and if the number of steps elapsed exceeds ``max_episode_steps`` then truncate.\u001b[39;00m\n\u001b[1;32m     48\u001b[0m \n\u001b[1;32m     49\u001b[0m \u001b[38;5;124;03m    Args:\u001b[39;00m\n\u001b[0;32m   (...)\u001b[0m\n\u001b[1;32m     55\u001b[0m \n\u001b[1;32m     56\u001b[0m \u001b[38;5;124;03m    \"\"\"\u001b[39;00m\n\u001b[0;32m---> 57\u001b[0m     observation, reward, terminated, truncated, info \u001b[38;5;241m=\u001b[39m \u001b[38;5;28;43mself\u001b[39;49m\u001b[38;5;241;43m.\u001b[39;49m\u001b[43menv\u001b[49m\u001b[38;5;241;43m.\u001b[39;49m\u001b[43mstep\u001b[49m\u001b[43m(\u001b[49m\u001b[43maction\u001b[49m\u001b[43m)\u001b[49m\n\u001b[1;32m     58\u001b[0m     \u001b[38;5;28mself\u001b[39m\u001b[38;5;241m.\u001b[39m_elapsed_steps \u001b[38;5;241m+\u001b[39m\u001b[38;5;241m=\u001b[39m \u001b[38;5;241m1\u001b[39m\n\u001b[1;32m     60\u001b[0m     \u001b[38;5;28;01mif\u001b[39;00m \u001b[38;5;28mself\u001b[39m\u001b[38;5;241m.\u001b[39m_elapsed_steps \u001b[38;5;241m>\u001b[39m\u001b[38;5;241m=\u001b[39m \u001b[38;5;28mself\u001b[39m\u001b[38;5;241m.\u001b[39m_max_episode_steps:\n",
      "File \u001b[0;32m~/miniconda3/envs/mixlab/lib/python3.10/site-packages/gymnasium/wrappers/order_enforcing.py:56\u001b[0m, in \u001b[0;36mOrderEnforcing.step\u001b[0;34m(self, action)\u001b[0m\n\u001b[1;32m     54\u001b[0m \u001b[38;5;28;01mif\u001b[39;00m \u001b[38;5;129;01mnot\u001b[39;00m \u001b[38;5;28mself\u001b[39m\u001b[38;5;241m.\u001b[39m_has_reset:\n\u001b[1;32m     55\u001b[0m     \u001b[38;5;28;01mraise\u001b[39;00m ResetNeeded(\u001b[38;5;124m\"\u001b[39m\u001b[38;5;124mCannot call env.step() before calling env.reset()\u001b[39m\u001b[38;5;124m\"\u001b[39m)\n\u001b[0;32m---> 56\u001b[0m \u001b[38;5;28;01mreturn\u001b[39;00m \u001b[38;5;28;43mself\u001b[39;49m\u001b[38;5;241;43m.\u001b[39;49m\u001b[43menv\u001b[49m\u001b[38;5;241;43m.\u001b[39;49m\u001b[43mstep\u001b[49m\u001b[43m(\u001b[49m\u001b[43maction\u001b[49m\u001b[43m)\u001b[49m\n",
      "File \u001b[0;32m~/miniconda3/envs/mixlab/lib/python3.10/site-packages/gymnasium/core.py:522\u001b[0m, in \u001b[0;36mObservationWrapper.step\u001b[0;34m(self, action)\u001b[0m\n\u001b[1;32m    518\u001b[0m \u001b[38;5;28;01mdef\u001b[39;00m \u001b[38;5;21mstep\u001b[39m(\n\u001b[1;32m    519\u001b[0m     \u001b[38;5;28mself\u001b[39m, action: ActType\n\u001b[1;32m    520\u001b[0m ) \u001b[38;5;241m-\u001b[39m\u001b[38;5;241m>\u001b[39m \u001b[38;5;28mtuple\u001b[39m[WrapperObsType, SupportsFloat, \u001b[38;5;28mbool\u001b[39m, \u001b[38;5;28mbool\u001b[39m, \u001b[38;5;28mdict\u001b[39m[\u001b[38;5;28mstr\u001b[39m, Any]]:\n\u001b[1;32m    521\u001b[0m \u001b[38;5;250m    \u001b[39m\u001b[38;5;124;03m\"\"\"Modifies the :attr:`env` after calling :meth:`step` using :meth:`self.observation` on the returned observations.\"\"\"\u001b[39;00m\n\u001b[0;32m--> 522\u001b[0m     observation, reward, terminated, truncated, info \u001b[38;5;241m=\u001b[39m \u001b[38;5;28;43mself\u001b[39;49m\u001b[38;5;241;43m.\u001b[39;49m\u001b[43menv\u001b[49m\u001b[38;5;241;43m.\u001b[39;49m\u001b[43mstep\u001b[49m\u001b[43m(\u001b[49m\u001b[43maction\u001b[49m\u001b[43m)\u001b[49m\n\u001b[1;32m    523\u001b[0m     \u001b[38;5;28;01mreturn\u001b[39;00m \u001b[38;5;28mself\u001b[39m\u001b[38;5;241m.\u001b[39mobservation(observation), reward, terminated, truncated, info\n",
      "File \u001b[0;32m~/miniconda3/envs/mixlab/lib/python3.10/site-packages/mani_skill2/envs/sapien_env.py:553\u001b[0m, in \u001b[0;36mBaseEnv.step\u001b[0;34m(self, action)\u001b[0m\n\u001b[1;32m    552\u001b[0m \u001b[38;5;28;01mdef\u001b[39;00m \u001b[38;5;21mstep\u001b[39m(\u001b[38;5;28mself\u001b[39m, action: Union[\u001b[38;5;28;01mNone\u001b[39;00m, np\u001b[38;5;241m.\u001b[39mndarray, Dict]):\n\u001b[0;32m--> 553\u001b[0m     \u001b[38;5;28;43mself\u001b[39;49m\u001b[38;5;241;43m.\u001b[39;49m\u001b[43mstep_action\u001b[49m\u001b[43m(\u001b[49m\u001b[43maction\u001b[49m\u001b[43m)\u001b[49m\n\u001b[1;32m    554\u001b[0m     \u001b[38;5;28mself\u001b[39m\u001b[38;5;241m.\u001b[39m_elapsed_steps \u001b[38;5;241m+\u001b[39m\u001b[38;5;241m=\u001b[39m \u001b[38;5;241m1\u001b[39m\n\u001b[1;32m    556\u001b[0m     obs \u001b[38;5;241m=\u001b[39m \u001b[38;5;28mself\u001b[39m\u001b[38;5;241m.\u001b[39mget_obs()\n",
      "File \u001b[0;32m~/miniconda3/envs/mixlab/lib/python3.10/site-packages/mani_skill2/envs/sapien_env.py:577\u001b[0m, in \u001b[0;36mBaseEnv.step_action\u001b[0;34m(self, action)\u001b[0m\n\u001b[1;32m    575\u001b[0m \u001b[38;5;28;01mfor\u001b[39;00m _ \u001b[38;5;129;01min\u001b[39;00m \u001b[38;5;28mrange\u001b[39m(\u001b[38;5;28mself\u001b[39m\u001b[38;5;241m.\u001b[39m_sim_steps_per_control):\n\u001b[1;32m    576\u001b[0m     \u001b[38;5;28mself\u001b[39m\u001b[38;5;241m.\u001b[39magent\u001b[38;5;241m.\u001b[39mbefore_simulation_step()\n\u001b[0;32m--> 577\u001b[0m     \u001b[38;5;28;43mself\u001b[39;49m\u001b[38;5;241;43m.\u001b[39;49m\u001b[43m_scene\u001b[49m\u001b[38;5;241;43m.\u001b[39;49m\u001b[43mstep\u001b[49m\u001b[43m(\u001b[49m\u001b[43m)\u001b[49m\n\u001b[1;32m    578\u001b[0m     \u001b[38;5;28mself\u001b[39m\u001b[38;5;241m.\u001b[39m_after_simulation_step()\n",
      "\u001b[0;31mKeyboardInterrupt\u001b[0m: "
     ]
    }
   ],
   "source": [
    "generator.generate(10, random_trials = 5, data_dir=\"../final_data/cube/avoid_collision\")"
   ]
  },
  {
   "cell_type": "code",
   "execution_count": 3,
   "metadata": {},
   "outputs": [
    {
     "name": "stderr",
     "output_type": "stream",
     "text": [
      "/home/mkim/miniconda3/envs/mixlab/lib/python3.10/site-packages/gymnasium/core.py:311: UserWarning: \u001b[33mWARN: env.cube_half_size to get variables from other wrappers is deprecated and will be removed in v1.0, to get this variable you can do `env.unwrapped.cube_half_size` for environment variables or `env.get_wrapper_attr('cube_half_size')` that will search the reminding wrappers.\u001b[0m\n",
      "  logger.warn(\n"
     ]
    },
    {
     "data": {
      "image/png": "[encoded data removed]",
      "text/plain": [
       "<Figure size 640x480 with 1 Axes>"
      ]
     },
     "metadata": {},
     "output_type": "display_data"
    }
   ],
   "source": [
    "import numpy as np\n",
    "unit = env.cube_half_size[0]\n",
    "cube_size = unit * scale\n",
    "\n",
    "# Initial obstacle position and orientation\n",
    "obstacle_initial_x = np.random.randn() * 12 * unit\n",
    "obstacle_initial_y = np.random.randn() * 12 * unit\n",
    "angle = np.random.uniform(0, 2*np.pi)  # Random angle\n",
    "\n",
    "# Initialize the list of existing positions\n",
    "existing_positions = []\n",
    "\n",
    "# initialize positions of obstacles\n",
    "for i, obj in enumerate(env.unwrapped.obstacles):\n",
    "    x = obstacle_initial_x + (i-len(env.unwrapped.obstacles)/2) * cube_size * np.cos(angle)\n",
    "    y = obstacle_initial_y + (i-len(env.unwrapped.obstacles)/2) * cube_size * np.sin(angle)\n",
    "    existing_positions.append([x, y, \"obstacle\"])\n",
    "    obj.set_pose(Pose([x, y, unit*2], euler2quat(0, 0, angle)))\n",
    "\n",
    "# Function to check if a point is above the dividing line\n",
    "def is_above_line(x, y, line_angle, pivot_x, pivot_y):\n",
    "    # Calculate the y-coordinate on the line for the given x\n",
    "    y_on_line = np.tan(line_angle) * (x - pivot_x) + pivot_y\n",
    "    return y > y_on_line\n",
    "\n",
    "# Function to generate a random position for a cube\n",
    "def generate_cube_position(above,obj,  pivot_x, pivot_y, angle, existing_positions, cube_size):\n",
    "    for _ in range(1000):  # Max attempts to find a valid position\n",
    "        x = np.random.uniform(-45, 45) * unit\n",
    "        y = np.random.uniform(-45, 45) * unit\n",
    "        # Check if the position is on the desired side of the line and away from existing positions\n",
    "        if is_above_line(x, y, angle, pivot_x, pivot_y) == above and all(np.linalg.norm([x - ex_x, y - ex_y]) > 4*cube_size for ex_x, ex_y, _ in existing_positions):\n",
    "            obj.set_pose(Pose([x, y, cube_size], euler2quat(0, 0, np.random.uniform(0, 2*np.pi))))\n",
    "            return x, y\n",
    "    raise ValueError(\"Failed to find a valid position for the cube\")\n",
    "\n",
    "\n",
    "# Generate position for the single cube on one specific side (e.g., above the line)\n",
    "\n",
    "single_cube_x, single_cube_y = generate_cube_position(True, env.unwrapped.objs[0], obstacle_initial_x, obstacle_initial_y, angle, existing_positions, cube_size)\n",
    "existing_positions.append([single_cube_x, single_cube_y,  env.unwrapped.objs[0].name])\n",
    "\n",
    "# Generate positions for the remaining cubes on the other side\n",
    "for obj in env.unwrapped.objs[1:]:\n",
    "    cube_x, cube_y = generate_cube_position(False, obj, obstacle_initial_x, obstacle_initial_y, angle, existing_positions, cube_size)\n",
    "    existing_positions.append([cube_x, cube_y, obj.name])\n",
    "\n",
    "\n",
    "obs, _, _, _, _ = env.step(env.action_space.sample())\n",
    "img = obs[\"image\"][\"base_camera\"][\"rgb\"]\n",
    "plt.imshow(img)\n",
    "plt.axis('off')\n",
    "plt.show()"
   ]
  },
  {
   "cell_type": "code",
   "execution_count": 41,
   "metadata": {},
   "outputs": [
    {
     "data": {
      "image/png": "[encoded data removed]",
      "text/plain": [
       "<Figure size 640x480 with 1 Axes>"
      ]
     },
     "metadata": {},
     "output_type": "display_data"
    }
   ],
   "source": [
    "starting_cube_name = env.unwrapped.objs[0].name\n",
    "\n",
    "directions = [\"between\", \"left\", \"right\", \"front\", \"back\"]\n",
    "direction = np.random.choice(directions)\n",
    "# direction = \"right\"\n",
    "\n",
    "if direction == \"between\": selected_n = 2\n",
    "else: selected_n = 1\n",
    "\n",
    "ending_cube_names = np.random.choice([obj.name for obj in env.unwrapped.objs[1:]], selected_n, replace=False)\n",
    "\n",
    "grid_size = 200\n",
    "grid, start, goal = get_grid_from_existing_positions(starting_cube_name, ending_cube_names, existing_positions, unit, scale, direction, grid_size)\n",
    "\n",
    "a_star_positions = [(p[0], p[1]) for p in np.stack(np.where(grid == 1), 1)]\n",
    "\n",
    "path = a_star_with_avoidance(start, goal, a_star_positions, scale*4, grid_size)\n",
    "\n",
    "if path:\n",
    "\t# print(\"Found path:\", path)\n",
    "\tpath_grid = grid.copy()\n",
    "\tfor p in path:\n",
    "\t\tpath_grid[p[0], p[1]] = 2\n",
    "\t# plt.imshow(path_grid[::-1, ::-1])\n",
    "\n",
    "\t# convert to xy coordinates\n",
    "\txy_path = np.array([(np.array(p) - grid_size/2)*unit for p in path])\n",
    "\n",
    "\tobj = [obj for obj in env.unwrapped.objs if obj.name == starting_cube_name][0]\n",
    "\tinitial_pose = obj.get_pose()\n",
    "\tobj.set_pose(initial_pose)\n",
    "\tfor i in range(xy_path.shape[0]):\n",
    "\t\tobj.set_pose(Pose([xy_path[i][0], xy_path[i][1], cube_size], obj.get_pose().q))\n",
    "\t\tif i % 9 == 0 or i == xy_path.shape[0] - 1:\n",
    "\t\t\tclear_output(wait=True)\n",
    "\t\t\tobs, _, _, _, _ = env.step(env.action_space.sample())\n",
    "\t\t\timg = obs[\"image\"][\"base_camera\"][\"rgb\"]\n",
    "\t\t\tplt.imshow(img)\n",
    "\t\t\tplt.title(f\"{env.unwrapped.objs[0].name} to {direction} - {ending_cube_names}\")\n",
    "\t\t\tplt.axis('off')\n",
    "\t\t\tplt.show()\n",
    "\n",
    "else:\n",
    "\tprint(\"No path found.\")\n",
    "\tgrid[start[0], start[1]] = 2\n",
    "\tgrid[goal[0], goal[1]] = 2\n",
    "\tplt.imshow(grid[::-1, ::-1])\n",
    "\tprint(\"direction:\", direction, \"cube names:\", ending_cube_names)"
   ]
  },
  {
   "cell_type": "code",
   "execution_count": 5,
   "metadata": {},
   "outputs": [],
   "source": []
  },
  {
   "cell_type": "code",
   "execution_count": null,
   "metadata": {},
   "outputs": [],
   "source": []
  },
  {
   "cell_type": "code",
   "execution_count": null,
   "metadata": {},
   "outputs": [],
   "source": []
  },
  {
   "cell_type": "code",
   "execution_count": null,
   "metadata": {},
   "outputs": [],
   "source": []
  },
  {
   "cell_type": "code",
   "execution_count": 2,
   "metadata": {},
   "outputs": [],
   "source": [
    "# model_paths = sorted(glob(\"../data/mani_skill2_ycb/models/*\"), key=lambda x: int(x.split('/')[-1][:3]))\n",
    "model_paths = sorted(glob(\"../models/*/mesh.obj\"))\n",
    "\n",
    "gen = GenerationClass(model_paths)"
   ]
  },
  {
   "cell_type": "code",
   "execution_count": 3,
   "metadata": {},
   "outputs": [
    {
     "name": "stderr",
     "output_type": "stream",
     "text": [
      "\u001b[33;1m2024-04-10 21:14:05,675 - mani_skill2 - WARNING - Override registered env CustomEnv-v0\u001b[0m\n"
     ]
    },
    {
     "name": "stdout",
     "output_type": "stream",
     "text": [
      "Done 5\r"
     ]
    },
    {
     "name": "stderr",
     "output_type": "stream",
     "text": [
      "[2024-04-10 21:14:05.675] [svulkan2] [warning] A second renderer will share the same internal context with the first one. Arguments passed to constructor will be ignored.\n"
     ]
    },
    {
     "ename": "KeyboardInterrupt",
     "evalue": "",
     "output_type": "error",
     "traceback": [
      "\u001b[0;31m---------------------------------------------------------------------------\u001b[0m",
      "\u001b[0;31mKeyboardInterrupt\u001b[0m                         Traceback (most recent call last)",
      "Cell \u001b[0;32mIn[3], line 19\u001b[0m\n\u001b[1;32m      1\u001b[0m n \u001b[38;5;241m=\u001b[39m \u001b[38;5;241m20\u001b[39m\n\u001b[1;32m      2\u001b[0m \u001b[38;5;66;03m# gen.generate(1, \"place_object_in_direction\", n)\u001b[39;00m\n\u001b[1;32m      3\u001b[0m \u001b[38;5;66;03m# gen.generate(3, \"place_object_in_direction\", n, object=\"object\")\u001b[39;00m\n\u001b[1;32m      4\u001b[0m \u001b[38;5;66;03m# gen.generate(3, \"place_object_in_direction\", n)\u001b[39;00m\n\u001b[0;32m   (...)\u001b[0m\n\u001b[1;32m     16\u001b[0m \n\u001b[1;32m     17\u001b[0m \u001b[38;5;66;03m# gen.generate(2, \"move_object\", n)\u001b[39;00m\n\u001b[0;32m---> 19\u001b[0m \u001b[43mgen\u001b[49m\u001b[38;5;241;43m.\u001b[39;49m\u001b[43mgenerate\u001b[49m\u001b[43m(\u001b[49m\u001b[38;5;241;43m3\u001b[39;49m\u001b[43m,\u001b[49m\u001b[43m \u001b[49m\u001b[38;5;124;43m\"\u001b[39;49m\u001b[38;5;124;43mmove_object_toward_another\u001b[39;49m\u001b[38;5;124;43m\"\u001b[39;49m\u001b[43m,\u001b[49m\u001b[43m \u001b[49m\u001b[43mn\u001b[49m\u001b[43m)\u001b[49m\n",
      "File \u001b[0;32m~/Nserver/mix-lab/maniskill2_dev/creation/utils/objects.py:608\u001b[0m, in \u001b[0;36mGenerationClass.generate\u001b[0;34m(self, N, type, random_trials, object)\u001b[0m\n\u001b[1;32m    605\u001b[0m obj_cfgs, camera_cfgs \u001b[38;5;241m=\u001b[39m \u001b[38;5;28mself\u001b[39m\u001b[38;5;241m.\u001b[39mcube_configs(\n\u001b[1;32m    606\u001b[0m     N, scales\u001b[38;5;241m=\u001b[39mrandom_scales, add_color\u001b[38;5;241m=\u001b[39mcolor, static\u001b[38;5;241m=\u001b[39m\u001b[38;5;129;01mnot\u001b[39;00m motion)\n\u001b[1;32m    607\u001b[0m env \u001b[38;5;241m=\u001b[39m \u001b[38;5;28mself\u001b[39m\u001b[38;5;241m.\u001b[39mget_env(obj_cfgs, camera_cfgs)\n\u001b[0;32m--> 608\u001b[0m \u001b[38;5;28;43mself\u001b[39;49m\u001b[38;5;241;43m.\u001b[39;49m\u001b[43mgenerate_samples\u001b[49m\u001b[43m(\u001b[49m\n\u001b[1;32m    609\u001b[0m \u001b[43m    \u001b[49m\u001b[43mN\u001b[49m\u001b[43m,\u001b[49m\u001b[43m \u001b[49m\u001b[43mobj_cfgs\u001b[49m\u001b[43m,\u001b[49m\u001b[43m \u001b[49m\u001b[43midx\u001b[49m\u001b[43m,\u001b[49m\u001b[43m \u001b[49m\u001b[43mtotal_idx\u001b[49m\u001b[43m,\u001b[49m\u001b[43m \u001b[49m\u001b[38;5;28;43mtype\u001b[39;49m\u001b[43m,\u001b[49m\u001b[43m \u001b[49m\u001b[38;5;28;43mobject\u001b[39;49m\u001b[43m)\u001b[49m\n\u001b[1;32m    611\u001b[0m total_idx \u001b[38;5;241m+\u001b[39m\u001b[38;5;241m=\u001b[39m \u001b[38;5;241m1\u001b[39m\n\u001b[1;32m    612\u001b[0m clear_output(wait\u001b[38;5;241m=\u001b[39m\u001b[38;5;28;01mTrue\u001b[39;00m)\n",
      "File \u001b[0;32m~/Nserver/mix-lab/maniskill2_dev/creation/utils/objects.py:486\u001b[0m, in \u001b[0;36mGenerationClass.generate_samples\u001b[0;34m(self, N, obj_cfgs, idx, total_idx, type, object)\u001b[0m\n\u001b[1;32m    483\u001b[0m \u001b[38;5;28;01melif\u001b[39;00m \u001b[38;5;28mtype\u001b[39m \u001b[38;5;241m==\u001b[39m \u001b[38;5;124m\"\u001b[39m\u001b[38;5;124mmove_object_toward_another\u001b[39m\u001b[38;5;124m\"\u001b[39m:\n\u001b[1;32m    484\u001b[0m     \u001b[38;5;28mself\u001b[39m\u001b[38;5;241m.\u001b[39mmove_object_toward_another(obj1, obj2, \u001b[38;5;241m1\u001b[39m)\n\u001b[0;32m--> 486\u001b[0m obs, _, _, _, _ \u001b[38;5;241m=\u001b[39m \u001b[38;5;28;43mself\u001b[39;49m\u001b[38;5;241;43m.\u001b[39;49m\u001b[43menv\u001b[49m\u001b[38;5;241;43m.\u001b[39;49m\u001b[43mstep\u001b[49m\u001b[43m(\u001b[49m\n\u001b[1;32m    487\u001b[0m \u001b[43m    \u001b[49m\u001b[43mnp\u001b[49m\u001b[38;5;241;43m.\u001b[39;49m\u001b[43mzeros\u001b[49m\u001b[43m(\u001b[49m\u001b[38;5;28;43mlen\u001b[39;49m\u001b[43m(\u001b[49m\u001b[38;5;28;43mself\u001b[39;49m\u001b[38;5;241;43m.\u001b[39;49m\u001b[43menv\u001b[49m\u001b[38;5;241;43m.\u001b[39;49m\u001b[43maction_space\u001b[49m\u001b[38;5;241;43m.\u001b[39;49m\u001b[43msample\u001b[49m\u001b[43m(\u001b[49m\u001b[43m)\u001b[49m\u001b[43m)\u001b[49m\u001b[43m)\u001b[49m\u001b[43m)\u001b[49m\n\u001b[1;32m    488\u001b[0m img \u001b[38;5;241m=\u001b[39m \u001b[38;5;28mself\u001b[39m\u001b[38;5;241m.\u001b[39mget_image(obs, \u001b[38;5;28mobject\u001b[39m)\n\u001b[1;32m    489\u001b[0m seg, object_ids \u001b[38;5;241m=\u001b[39m \u001b[38;5;28mself\u001b[39m\u001b[38;5;241m.\u001b[39mget_seg_masks(obs)\n",
      "File \u001b[0;32m~/miniconda3/envs/mixlab/lib/python3.10/site-packages/gymnasium/wrappers/time_limit.py:57\u001b[0m, in \u001b[0;36mTimeLimit.step\u001b[0;34m(self, action)\u001b[0m\n\u001b[1;32m     46\u001b[0m \u001b[38;5;28;01mdef\u001b[39;00m \u001b[38;5;21mstep\u001b[39m(\u001b[38;5;28mself\u001b[39m, action):\n\u001b[1;32m     47\u001b[0m \u001b[38;5;250m    \u001b[39m\u001b[38;5;124;03m\"\"\"Steps through the environment and if the number of steps elapsed exceeds ``max_episode_steps`` then truncate.\u001b[39;00m\n\u001b[1;32m     48\u001b[0m \n\u001b[1;32m     49\u001b[0m \u001b[38;5;124;03m    Args:\u001b[39;00m\n\u001b[0;32m   (...)\u001b[0m\n\u001b[1;32m     55\u001b[0m \n\u001b[1;32m     56\u001b[0m \u001b[38;5;124;03m    \"\"\"\u001b[39;00m\n\u001b[0;32m---> 57\u001b[0m     observation, reward, terminated, truncated, info \u001b[38;5;241m=\u001b[39m \u001b[38;5;28;43mself\u001b[39;49m\u001b[38;5;241;43m.\u001b[39;49m\u001b[43menv\u001b[49m\u001b[38;5;241;43m.\u001b[39;49m\u001b[43mstep\u001b[49m\u001b[43m(\u001b[49m\u001b[43maction\u001b[49m\u001b[43m)\u001b[49m\n\u001b[1;32m     58\u001b[0m     \u001b[38;5;28mself\u001b[39m\u001b[38;5;241m.\u001b[39m_elapsed_steps \u001b[38;5;241m+\u001b[39m\u001b[38;5;241m=\u001b[39m \u001b[38;5;241m1\u001b[39m\n\u001b[1;32m     60\u001b[0m     \u001b[38;5;28;01mif\u001b[39;00m \u001b[38;5;28mself\u001b[39m\u001b[38;5;241m.\u001b[39m_elapsed_steps \u001b[38;5;241m>\u001b[39m\u001b[38;5;241m=\u001b[39m \u001b[38;5;28mself\u001b[39m\u001b[38;5;241m.\u001b[39m_max_episode_steps:\n",
      "File \u001b[0;32m~/miniconda3/envs/mixlab/lib/python3.10/site-packages/gymnasium/wrappers/order_enforcing.py:56\u001b[0m, in \u001b[0;36mOrderEnforcing.step\u001b[0;34m(self, action)\u001b[0m\n\u001b[1;32m     54\u001b[0m \u001b[38;5;28;01mif\u001b[39;00m \u001b[38;5;129;01mnot\u001b[39;00m \u001b[38;5;28mself\u001b[39m\u001b[38;5;241m.\u001b[39m_has_reset:\n\u001b[1;32m     55\u001b[0m     \u001b[38;5;28;01mraise\u001b[39;00m ResetNeeded(\u001b[38;5;124m\"\u001b[39m\u001b[38;5;124mCannot call env.step() before calling env.reset()\u001b[39m\u001b[38;5;124m\"\u001b[39m)\n\u001b[0;32m---> 56\u001b[0m \u001b[38;5;28;01mreturn\u001b[39;00m \u001b[38;5;28;43mself\u001b[39;49m\u001b[38;5;241;43m.\u001b[39;49m\u001b[43menv\u001b[49m\u001b[38;5;241;43m.\u001b[39;49m\u001b[43mstep\u001b[49m\u001b[43m(\u001b[49m\u001b[43maction\u001b[49m\u001b[43m)\u001b[49m\n",
      "File \u001b[0;32m~/miniconda3/envs/mixlab/lib/python3.10/site-packages/gymnasium/core.py:522\u001b[0m, in \u001b[0;36mObservationWrapper.step\u001b[0;34m(self, action)\u001b[0m\n\u001b[1;32m    518\u001b[0m \u001b[38;5;28;01mdef\u001b[39;00m \u001b[38;5;21mstep\u001b[39m(\n\u001b[1;32m    519\u001b[0m     \u001b[38;5;28mself\u001b[39m, action: ActType\n\u001b[1;32m    520\u001b[0m ) \u001b[38;5;241m-\u001b[39m\u001b[38;5;241m>\u001b[39m \u001b[38;5;28mtuple\u001b[39m[WrapperObsType, SupportsFloat, \u001b[38;5;28mbool\u001b[39m, \u001b[38;5;28mbool\u001b[39m, \u001b[38;5;28mdict\u001b[39m[\u001b[38;5;28mstr\u001b[39m, Any]]:\n\u001b[1;32m    521\u001b[0m \u001b[38;5;250m    \u001b[39m\u001b[38;5;124;03m\"\"\"Modifies the :attr:`env` after calling :meth:`step` using :meth:`self.observation` on the returned observations.\"\"\"\u001b[39;00m\n\u001b[0;32m--> 522\u001b[0m     observation, reward, terminated, truncated, info \u001b[38;5;241m=\u001b[39m \u001b[38;5;28;43mself\u001b[39;49m\u001b[38;5;241;43m.\u001b[39;49m\u001b[43menv\u001b[49m\u001b[38;5;241;43m.\u001b[39;49m\u001b[43mstep\u001b[49m\u001b[43m(\u001b[49m\u001b[43maction\u001b[49m\u001b[43m)\u001b[49m\n\u001b[1;32m    523\u001b[0m     \u001b[38;5;28;01mreturn\u001b[39;00m \u001b[38;5;28mself\u001b[39m\u001b[38;5;241m.\u001b[39mobservation(observation), reward, terminated, truncated, info\n",
      "File \u001b[0;32m~/miniconda3/envs/mixlab/lib/python3.10/site-packages/mani_skill2/envs/sapien_env.py:553\u001b[0m, in \u001b[0;36mBaseEnv.step\u001b[0;34m(self, action)\u001b[0m\n\u001b[1;32m    552\u001b[0m \u001b[38;5;28;01mdef\u001b[39;00m \u001b[38;5;21mstep\u001b[39m(\u001b[38;5;28mself\u001b[39m, action: Union[\u001b[38;5;28;01mNone\u001b[39;00m, np\u001b[38;5;241m.\u001b[39mndarray, Dict]):\n\u001b[0;32m--> 553\u001b[0m     \u001b[38;5;28;43mself\u001b[39;49m\u001b[38;5;241;43m.\u001b[39;49m\u001b[43mstep_action\u001b[49m\u001b[43m(\u001b[49m\u001b[43maction\u001b[49m\u001b[43m)\u001b[49m\n\u001b[1;32m    554\u001b[0m     \u001b[38;5;28mself\u001b[39m\u001b[38;5;241m.\u001b[39m_elapsed_steps \u001b[38;5;241m+\u001b[39m\u001b[38;5;241m=\u001b[39m \u001b[38;5;241m1\u001b[39m\n\u001b[1;32m    556\u001b[0m     obs \u001b[38;5;241m=\u001b[39m \u001b[38;5;28mself\u001b[39m\u001b[38;5;241m.\u001b[39mget_obs()\n",
      "File \u001b[0;32m~/miniconda3/envs/mixlab/lib/python3.10/site-packages/mani_skill2/envs/sapien_env.py:577\u001b[0m, in \u001b[0;36mBaseEnv.step_action\u001b[0;34m(self, action)\u001b[0m\n\u001b[1;32m    575\u001b[0m \u001b[38;5;28;01mfor\u001b[39;00m _ \u001b[38;5;129;01min\u001b[39;00m \u001b[38;5;28mrange\u001b[39m(\u001b[38;5;28mself\u001b[39m\u001b[38;5;241m.\u001b[39m_sim_steps_per_control):\n\u001b[1;32m    576\u001b[0m     \u001b[38;5;28mself\u001b[39m\u001b[38;5;241m.\u001b[39magent\u001b[38;5;241m.\u001b[39mbefore_simulation_step()\n\u001b[0;32m--> 577\u001b[0m     \u001b[38;5;28;43mself\u001b[39;49m\u001b[38;5;241;43m.\u001b[39;49m\u001b[43m_scene\u001b[49m\u001b[38;5;241;43m.\u001b[39;49m\u001b[43mstep\u001b[49m\u001b[43m(\u001b[49m\u001b[43m)\u001b[49m\n\u001b[1;32m    578\u001b[0m     \u001b[38;5;28mself\u001b[39m\u001b[38;5;241m.\u001b[39m_after_simulation_step()\n",
      "\u001b[0;31mKeyboardInterrupt\u001b[0m: "
     ]
    }
   ],
   "source": [
    "n = 20\n",
    "# gen.generate(1, \"place_object_in_direction\", n)\n",
    "# gen.generate(3, \"place_object_in_direction\", n, object=\"object\")\n",
    "# gen.generate(3, \"place_object_in_direction\", n)\n",
    "# gen.generate(4, \"place_object_in_direction\", n)\n",
    "\n",
    "# gen.generate(2, \"place_object_on_another\", n)\n",
    "# gen.generate(3, \"place_object_on_another\", n)\n",
    "# gen.generate(4, \"place_object_on_another\", n)\n",
    "\n",
    "# gen.generate(3, \"place_object_in_between\", n)\n",
    "\n",
    "# gen.generate(3, \"remove_object\", n)\n",
    "\n",
    "# gen.generate(3, \"order_by_color\", n)\n",
    "\n",
    "# gen.generate(2, \"move_object\", n)\n",
    "\n",
    "gen.generate(3, \"move_object_toward_another\", n)"
   ]
  },
  {
   "cell_type": "code",
   "execution_count": null,
   "metadata": {},
   "outputs": [],
   "source": [
    "from utils.run_tsr import process_images\n",
    "from utils.conver_color import convert"
   ]
  },
  {
   "cell_type": "code",
   "execution_count": null,
   "metadata": {},
   "outputs": [],
   "source": [
    "names = sorted([i[:-4] for i in os.listdir('../data/object_images')])\n",
    "names = [i for i in names if i not in os.listdir(\"../models\")]\n",
    "# for path in glob(\"../models/*\"):\n",
    "#     # rename to lower case\n",
    "#     os.rename(path, path.lower())"
   ]
  },
  {
   "cell_type": "code",
   "execution_count": null,
   "metadata": {},
   "outputs": [],
   "source": [
    "idx = 0"
   ]
  },
  {
   "cell_type": "code",
   "execution_count": null,
   "metadata": {},
   "outputs": [],
   "source": [
    "idx += 1"
   ]
  },
  {
   "cell_type": "code",
   "execution_count": null,
   "metadata": {},
   "outputs": [],
   "source": [
    "name = names[idx]\n",
    "name"
   ]
  },
  {
   "cell_type": "code",
   "execution_count": null,
   "metadata": {},
   "outputs": [],
   "source": [
    "process_images([f\"../data/object_images/{name}.png\"],\n",
    "               output_dir=f\"../models/{name}\", foreground_ratio=0.8)\n",
    "convert(f\"../models/{name}/0/mesh.obj\", f\"../models/{name}\")"
   ]
  },
  {
   "cell_type": "code",
   "execution_count": null,
   "metadata": {},
   "outputs": [],
   "source": [
    "names = sorted([i[:-4] for i in os.listdir('../data/object_images')])"
   ]
  },
  {
   "cell_type": "code",
   "execution_count": null,
   "metadata": {},
   "outputs": [],
   "source": []
  },
  {
   "cell_type": "code",
   "execution_count": null,
   "metadata": {},
   "outputs": [],
   "source": [
    "for name in names:\n",
    "    obj_cfgs, camera_cfgs = gen.model_configs(1, [name])\n",
    "    obj_cfgs[0][\"scale\"] = 1.5\n",
    "    env = gen.get_env(obj_cfgs, camera_cfgs)\n",
    "    gen.initialize_positions(1, obj_cfgs)\n",
    "    gen.brightness = 30\n",
    "\n",
    "    for i in range(1):\n",
    "        # env.obj.set_pose(Pose([0, 0, 0.25], env.obj.get_pose().q))\n",
    "        obs, _, _, _, _ = env.step(env.action_space.sample())\n",
    "        # clear_output(wait=True)\n",
    "        plt.imshow(gen.get_image(obs, \"none\"))\n",
    "        plt.title(name)\n",
    "        plt.show()\n"
   ]
  },
  {
   "cell_type": "code",
   "execution_count": null,
   "metadata": {},
   "outputs": [],
   "source": []
  },
  {
   "cell_type": "code",
   "execution_count": null,
   "metadata": {},
   "outputs": [],
   "source": [
    "import shutil\n",
    "\n",
    "\n",
    "def remove(name):\n",
    "    shutil.rmtree(f\"../models/{name}\")\n",
    "    os.remove(\"../data/object_images/\" + name + \".png\")"
   ]
  },
  {
   "cell_type": "code",
   "execution_count": null,
   "metadata": {},
   "outputs": [],
   "source": [
    "remove(name)"
   ]
  },
  {
   "cell_type": "code",
   "execution_count": null,
   "metadata": {},
   "outputs": [],
   "source": [
    "n = 4\n",
    "fig, axs = plt.subplots(1, 2)\n",
    "for model in models:\n",
    "    # chosing models\n",
    "    other_models = [m for m in models if m != model]\n",
    "    other_model = np.random.choice(other_models, n-1, replace=False)\n",
    "    other_model = [model] + list(other_model)\n",
    "    obj_cfgs, camera_cfgs = gen.model_configs(n, other_model)\n",
    "    env = gen.get_env(obj_cfgs, camera_cfgs)\n",
    "\n",
    "    gen.initialize_positions(n, obj_cfgs)\n",
    "\n",
    "    obs, _, _, _, _ = env.step(np.zeros(len(env.action_space.sample())))\n",
    "    img = obs['image'][\"base_camera\"][\"rgb\"]\n",
    "    img = gen.get_image(obs, \"object\")\n",
    "\n",
    "    axs[0].imshow(img)\n",
    "\n",
    "    direction = \"forward\"\n",
    "    rand_obj = np.random.choice(gen.env.objs)\n",
    "    gen.place_object_in_direction(rand_obj, direction)\n",
    "\n",
    "    obs, _, _, _, _ = env.step(np.zeros(len(env.action_space.sample())))\n",
    "    img = gen.get_image(obs, \"object\")\n",
    "    axs[1].imshow(img)\n",
    "    plt.suptitle(f\"{rand_obj.name} {direction}\")\n",
    "    plt.show()\n",
    "    break"
   ]
  },
  {
   "cell_type": "code",
   "execution_count": null,
   "metadata": {},
   "outputs": [],
   "source": [
    "other_model"
   ]
  },
  {
   "cell_type": "code",
   "execution_count": null,
   "metadata": {},
   "outputs": [],
   "source": []
  }
 ],
 "metadata": {
  "kernelspec": {
   "display_name": "mixlab",
   "language": "python",
   "name": "python3"
  },
  "language_info": {
   "codemirror_mode": {
    "name": "ipython",
    "version": 3
   },
   "file_extension": ".py",
   "mimetype": "text/x-python",
   "name": "python",
   "nbconvert_exporter": "python",
   "pygments_lexer": "ipython3",
   "version": "3.10.14"
  }
 },
 "nbformat": 4,
 "nbformat_minor": 2
}
